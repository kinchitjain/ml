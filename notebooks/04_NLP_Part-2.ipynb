{
 "cells": [
  {
   "cell_type": "markdown",
   "metadata": {},
   "source": [
    "# Natural Language Processing using spacy"
   ]
  },
  {
   "cell_type": "markdown",
   "metadata": {},
   "source": [
    "- Introduction of Spacy library\n",
    "- Load english dictionary\n",
    "- Find out stop words\n",
    "- create an nlp object of given document (sentence)\n",
    "- Count frequency of each word using hash values (using count_by(ORTH) and nlp.vocab.strings)\n",
    "- print each word count, using dictionary comprehension\n",
    "- print index of each token\n",
    "- Print various attributes of nlp object (i.e. is_alpha,tok.shape_,is_stop,tok.pos_,tok.tag_) !!!\n",
    "- Stemming (using nltk)\n",
    "    - using PorterStemmer()\n",
    "    - using SnowballStemmer()\n",
    "- Lemmatization\n",
    "- Display tree view of words using displacy using displacy.render()\n",
    "- How to get the meaning of any denoted words by nlp using explain(<word>)\n",
    "- How to Find out NER(Named entity Recognition) in given doc\n",
    "- Display Named Entity in doc using displacy.render\n",
    "- Remove stop_words/punctuation using is_stop & is_punct attribute\n",
    "- create a list of words/sentence after removing stop_words then make sentence\n",
    "- Sentence and Word Tokenization\n",
    "- Pipelining:\n",
    "    - Get all the factory pipelining options available\n",
    "    - How to disable preloaded pipeline, that will enahnce the processing time?\n",
    "    - Adding custom pipelines\n",
    "- Reading a file and displaying entity\n",
    "- Chunking\n",
    "- Computing word similarity    \n",
    "- n-grams (using nltk and sklearn-CountVectorizer())\n",
    "    - bi-grams\n",
    "    - tri-grams\n",
    "    - n-grams"
   ]
  },
  {
   "cell_type": "code",
   "execution_count": 2,
   "metadata": {
    "ExecuteTime": {
     "end_time": "2019-10-12T15:09:01.408997Z",
     "start_time": "2019-10-12T15:08:57.811322Z"
    }
   },
   "outputs": [],
   "source": [
    "import spacy as sp\n",
    "from spacy import displacy # used for data visualization\n",
    "from spacy.lang.en.stop_words import STOP_WORDS\n",
    "from spacy.attrs import ORTH # to be used for word count"
   ]
  },
  {
   "cell_type": "code",
   "execution_count": 3,
   "metadata": {
    "ExecuteTime": {
     "end_time": "2019-10-13T02:41:21.000521Z",
     "start_time": "2019-10-13T02:41:20.668250Z"
    }
   },
   "outputs": [],
   "source": [
    "nlp = sp.load(\"en_core_web_sm\") # ref: https://spacy.io/models/en"
   ]
  },
  {
   "cell_type": "markdown",
   "metadata": {},
   "source": [
    "###### To load english model"
   ]
  },
  {
   "cell_type": "markdown",
   "metadata": {},
   "source": [
    "# !python -m spacy download en_core_web_sm"
   ]
  },
  {
   "cell_type": "code",
   "execution_count": 3,
   "metadata": {},
   "outputs": [],
   "source": [
    "txt = \"\"\"Commercial writers know that most people don’t want to read 1,000 \n",
    "words of closely-spaced text in order to see what they are writing about, so \n",
    "they also like to keep sentences and paragraphs short. \n",
    "They’ll even use lots of sub-headers so you can see what each paragraph is about \n",
    "before you read it.\"\"\""
   ]
  },
  {
   "cell_type": "code",
   "execution_count": 4,
   "metadata": {},
   "outputs": [],
   "source": [
    "obj = nlp(txt)"
   ]
  },
  {
   "cell_type": "markdown",
   "metadata": {},
   "source": [
    "###### How to get al the words from text"
   ]
  },
  {
   "cell_type": "markdown",
   "metadata": {},
   "source": [
    "###### Find out stop words"
   ]
  },
  {
   "cell_type": "markdown",
   "metadata": {},
   "source": [
    "###### create an nlp object of given document (sentence)"
   ]
  },
  {
   "cell_type": "markdown",
   "metadata": {},
   "source": [
    "###### to create separate word from senetence"
   ]
  },
  {
   "cell_type": "markdown",
   "metadata": {},
   "source": [
    "###### Count frequency of each word using hash values (using count_by(ORTH) and nlp.vocab.strings)"
   ]
  },
  {
   "cell_type": "markdown",
   "metadata": {},
   "source": [
    "###### print each word count, using dictionary comprehension"
   ]
  },
  {
   "cell_type": "markdown",
   "metadata": {},
   "source": [
    "###### print index of each token"
   ]
  },
  {
   "cell_type": "markdown",
   "metadata": {},
   "source": [
    "###### Print various attributes of nlp object (i.e. is_alpha,tok.shape_,is_stop,tok.pos_,tok.tag_) !!!"
   ]
  },
  {
   "cell_type": "markdown",
   "metadata": {},
   "source": [
    "###### Stemming (using nltk)\n",
    "using PorterStemmer()\n",
    "using SnowballStemmer()"
   ]
  },
  {
   "cell_type": "markdown",
   "metadata": {},
   "source": [
    "###### Lemmatization"
   ]
  },
  {
   "cell_type": "markdown",
   "metadata": {},
   "source": [
    "###### Display tree view of words using displacy using displacy.render()"
   ]
  },
  {
   "cell_type": "markdown",
   "metadata": {},
   "source": [
    "###### How to get the meaning of any denoted words by nlp using explain()"
   ]
  },
  {
   "cell_type": "markdown",
   "metadata": {},
   "source": [
    "###### How to Find out NER(Named entity Recognition) in given doc"
   ]
  },
  {
   "cell_type": "markdown",
   "metadata": {},
   "source": [
    "###### Display Named Entity in doc using displacy.render"
   ]
  },
  {
   "cell_type": "markdown",
   "metadata": {},
   "source": [
    "###### Remove stop_words/punctuation using is_stop & is_punct attribute"
   ]
  },
  {
   "cell_type": "markdown",
   "metadata": {},
   "source": [
    "###### create a list of words/sentence after removing stop_words then make sentence"
   ]
  },
  {
   "cell_type": "markdown",
   "metadata": {},
   "source": [
    "###### Sentence and Word Tokenization"
   ]
  }
 ],
 "metadata": {
  "kernelspec": {
   "display_name": "Python 3",
   "language": "python",
   "name": "python3"
  },
  "language_info": {
   "codemirror_mode": {
    "name": "ipython",
    "version": 3
   },
   "file_extension": ".py",
   "mimetype": "text/x-python",
   "name": "python",
   "nbconvert_exporter": "python",
   "pygments_lexer": "ipython3",
   "version": "3.7.3"
  },
  "latex_envs": {
   "LaTeX_envs_menu_present": true,
   "autoclose": false,
   "autocomplete": true,
   "bibliofile": "biblio.bib",
   "cite_by": "apalike",
   "current_citInitial": 1,
   "eqLabelWithNumbers": true,
   "eqNumInitial": 1,
   "hotkeys": {
    "equation": "Ctrl-E",
    "itemize": "Ctrl-I"
   },
   "labels_anchors": false,
   "latex_user_defs": false,
   "report_style_numbering": false,
   "user_envs_cfg": false
  },
  "toc": {
   "base_numbering": 1,
   "nav_menu": {},
   "number_sections": true,
   "sideBar": true,
   "skip_h1_title": false,
   "title_cell": "Table of Contents",
   "title_sidebar": "Contents",
   "toc_cell": false,
   "toc_position": {},
   "toc_section_display": true,
   "toc_window_display": false
  },
  "varInspector": {
   "cols": {
    "lenName": 16,
    "lenType": 16,
    "lenVar": 40
   },
   "kernels_config": {
    "python": {
     "delete_cmd_postfix": "",
     "delete_cmd_prefix": "del ",
     "library": "var_list.py",
     "varRefreshCmd": "print(var_dic_list())"
    },
    "r": {
     "delete_cmd_postfix": ") ",
     "delete_cmd_prefix": "rm(",
     "library": "var_list.r",
     "varRefreshCmd": "cat(var_dic_list()) "
    }
   },
   "types_to_exclude": [
    "module",
    "function",
    "builtin_function_or_method",
    "instance",
    "_Feature"
   ],
   "window_display": false
  }
 },
 "nbformat": 4,
 "nbformat_minor": 2
}
