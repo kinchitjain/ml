{
 "cells": [
  {
   "cell_type": "markdown",
   "metadata": {},
   "source": [
    "## POS tagging using modified Viterbi"
   ]
  },
  {
   "cell_type": "markdown",
   "metadata": {},
   "source": [
    "### Data Preparation"
   ]
  },
  {
   "cell_type": "code",
   "execution_count": 1,
   "metadata": {},
   "outputs": [],
   "source": [
    "#Importing libraries\n",
    "import nltk\n",
    "import numpy as np\n",
    "import pandas as pd\n",
    "import random\n",
    "from sklearn.model_selection import train_test_split\n",
    "import pprint, time"
   ]
  },
  {
   "cell_type": "code",
   "execution_count": 8,
   "metadata": {},
   "outputs": [],
   "source": [
    "# reading the Treebank tagged sentences\n",
    "data = list(nltk.corpus.treebank.tagged_sents(tagset='universal'))"
   ]
  },
  {
   "cell_type": "code",
   "execution_count": 9,
   "metadata": {},
   "outputs": [
    {
     "name": "stdout",
     "output_type": "stream",
     "text": [
      "[[('Pierre', 'NOUN'), ('Vinken', 'NOUN'), (',', '.'), ('61', 'NUM'), ('years', 'NOUN'), ('old', 'ADJ'), (',', '.'), ('will', 'VERB'), ('join', 'VERB'), ('the', 'DET'), ('board', 'NOUN'), ('as', 'ADP'), ('a', 'DET'), ('nonexecutive', 'ADJ'), ('director', 'NOUN'), ('Nov.', 'NOUN'), ('29', 'NUM'), ('.', '.')], [('Mr.', 'NOUN'), ('Vinken', 'NOUN'), ('is', 'VERB'), ('chairman', 'NOUN'), ('of', 'ADP'), ('Elsevier', 'NOUN'), ('N.V.', 'NOUN'), (',', '.'), ('the', 'DET'), ('Dutch', 'NOUN'), ('publishing', 'VERB'), ('group', 'NOUN'), ('.', '.')], [('Rudolph', 'NOUN'), ('Agnew', 'NOUN'), (',', '.'), ('55', 'NUM'), ('years', 'NOUN'), ('old', 'ADJ'), ('and', 'CONJ'), ('former', 'ADJ'), ('chairman', 'NOUN'), ('of', 'ADP'), ('Consolidated', 'NOUN'), ('Gold', 'NOUN'), ('Fields', 'NOUN'), ('PLC', 'NOUN'), (',', '.'), ('was', 'VERB'), ('named', 'VERB'), ('*-1', 'X'), ('a', 'DET'), ('nonexecutive', 'ADJ'), ('director', 'NOUN'), ('of', 'ADP'), ('this', 'DET'), ('British', 'ADJ'), ('industrial', 'ADJ'), ('conglomerate', 'NOUN'), ('.', '.')], [('A', 'DET'), ('form', 'NOUN'), ('of', 'ADP'), ('asbestos', 'NOUN'), ('once', 'ADV'), ('used', 'VERB'), ('*', 'X'), ('*', 'X'), ('to', 'PRT'), ('make', 'VERB'), ('Kent', 'NOUN'), ('cigarette', 'NOUN'), ('filters', 'NOUN'), ('has', 'VERB'), ('caused', 'VERB'), ('a', 'DET'), ('high', 'ADJ'), ('percentage', 'NOUN'), ('of', 'ADP'), ('cancer', 'NOUN'), ('deaths', 'NOUN'), ('among', 'ADP'), ('a', 'DET'), ('group', 'NOUN'), ('of', 'ADP'), ('workers', 'NOUN'), ('exposed', 'VERB'), ('*', 'X'), ('to', 'PRT'), ('it', 'PRON'), ('more', 'ADV'), ('than', 'ADP'), ('30', 'NUM'), ('years', 'NOUN'), ('ago', 'ADP'), (',', '.'), ('researchers', 'NOUN'), ('reported', 'VERB'), ('0', 'X'), ('*T*-1', 'X'), ('.', '.')], [('The', 'DET'), ('asbestos', 'NOUN'), ('fiber', 'NOUN'), (',', '.'), ('crocidolite', 'NOUN'), (',', '.'), ('is', 'VERB'), ('unusually', 'ADV'), ('resilient', 'ADJ'), ('once', 'ADP'), ('it', 'PRON'), ('enters', 'VERB'), ('the', 'DET'), ('lungs', 'NOUN'), (',', '.'), ('with', 'ADP'), ('even', 'ADV'), ('brief', 'ADJ'), ('exposures', 'NOUN'), ('to', 'PRT'), ('it', 'PRON'), ('causing', 'VERB'), ('symptoms', 'NOUN'), ('that', 'DET'), ('*T*-1', 'X'), ('show', 'VERB'), ('up', 'PRT'), ('decades', 'NOUN'), ('later', 'ADJ'), (',', '.'), ('researchers', 'NOUN'), ('said', 'VERB'), ('0', 'X'), ('*T*-2', 'X'), ('.', '.')], [('Lorillard', 'NOUN'), ('Inc.', 'NOUN'), (',', '.'), ('the', 'DET'), ('unit', 'NOUN'), ('of', 'ADP'), ('New', 'ADJ'), ('York-based', 'ADJ'), ('Loews', 'NOUN'), ('Corp.', 'NOUN'), ('that', 'DET'), ('*T*-2', 'X'), ('makes', 'VERB'), ('Kent', 'NOUN'), ('cigarettes', 'NOUN'), (',', '.'), ('stopped', 'VERB'), ('using', 'VERB'), ('crocidolite', 'NOUN'), ('in', 'ADP'), ('its', 'PRON'), ('Micronite', 'NOUN'), ('cigarette', 'NOUN'), ('filters', 'NOUN'), ('in', 'ADP'), ('1956', 'NUM'), ('.', '.')], [('Although', 'ADP'), ('preliminary', 'ADJ'), ('findings', 'NOUN'), ('were', 'VERB'), ('reported', 'VERB'), ('*-2', 'X'), ('more', 'ADV'), ('than', 'ADP'), ('a', 'DET'), ('year', 'NOUN'), ('ago', 'ADP'), (',', '.'), ('the', 'DET'), ('latest', 'ADJ'), ('results', 'NOUN'), ('appear', 'VERB'), ('in', 'ADP'), ('today', 'NOUN'), (\"'s\", 'PRT'), ('New', 'NOUN'), ('England', 'NOUN'), ('Journal', 'NOUN'), ('of', 'ADP'), ('Medicine', 'NOUN'), (',', '.'), ('a', 'DET'), ('forum', 'NOUN'), ('likely', 'ADJ'), ('*', 'X'), ('to', 'PRT'), ('bring', 'VERB'), ('new', 'ADJ'), ('attention', 'NOUN'), ('to', 'PRT'), ('the', 'DET'), ('problem', 'NOUN'), ('.', '.')], [('A', 'DET'), ('Lorillard', 'NOUN'), ('spokewoman', 'NOUN'), ('said', 'VERB'), (',', '.'), ('``', '.'), ('This', 'DET'), ('is', 'VERB'), ('an', 'DET'), ('old', 'ADJ'), ('story', 'NOUN'), ('.', '.')], [('We', 'PRON'), (\"'re\", 'VERB'), ('talking', 'VERB'), ('about', 'ADP'), ('years', 'NOUN'), ('ago', 'ADP'), ('before', 'ADP'), ('anyone', 'NOUN'), ('heard', 'VERB'), ('of', 'ADP'), ('asbestos', 'NOUN'), ('having', 'VERB'), ('any', 'DET'), ('questionable', 'ADJ'), ('properties', 'NOUN'), ('.', '.')], [('There', 'DET'), ('is', 'VERB'), ('no', 'DET'), ('asbestos', 'NOUN'), ('in', 'ADP'), ('our', 'PRON'), ('products', 'NOUN'), ('now', 'ADV'), ('.', '.'), (\"''\", '.')]]\n"
     ]
    }
   ],
   "source": [
    "print(data[:10])"
   ]
  },
  {
   "cell_type": "code",
   "execution_count": 10,
   "metadata": {},
   "outputs": [
    {
     "name": "stdout",
     "output_type": "stream",
     "text": [
      "Training Set Length - 3718\n",
      "Testing Set Length - 196\n",
      "----------------------------------------------------------------------------------------------------\n",
      "Training Data -\n",
      "\n",
      "[[('Montedison', 'NOUN'), ('currently', 'ADV'), ('owns', 'VERB'), ('about', 'ADP'), ('72', 'NUM'), ('%', 'NOUN'), ('of', 'ADP'), ('Erbamont', 'NOUN'), (\"'s\", 'PRT'), ('common', 'ADJ'), ('shares', 'NOUN'), ('outstanding', 'ADJ'), ('.', '.')], [('Plans', 'NOUN'), ('that', 'DET'), ('*T*-13', 'X'), ('give', 'VERB'), ('advertisers', 'NOUN'), ('discounts', 'NOUN'), ('for', 'ADP'), ('*', 'X'), ('maintaining', 'VERB'), ('or', 'CONJ'), ('increasing', 'VERB'), ('ad', 'NOUN'), ('spending', 'NOUN'), ('have', 'VERB'), ('become', 'VERB'), ('permanent', 'ADJ'), ('fixtures', 'NOUN'), ('at', 'ADP'), ('the', 'DET'), ('news', 'NOUN'), ('weeklies', 'NOUN'), ('and', 'CONJ'), ('underscore', 'VERB'), ('the', 'DET'), ('fierce', 'ADJ'), ('competition', 'NOUN'), ('between', 'ADP'), ('Newsweek', 'NOUN'), (',', '.'), ('Time', 'NOUN'), ('Warner', 'NOUN'), ('Inc.', 'NOUN'), (\"'s\", 'PRT'), ('Time', 'NOUN'), ('magazine', 'NOUN'), (',', '.'), ('and', 'CONJ'), ('Mortimer', 'NOUN'), ('B.', 'NOUN'), ('Zuckerman', 'NOUN'), (\"'s\", 'PRT'), ('U.S.', 'NOUN'), ('News', 'NOUN'), ('&', 'CONJ'), ('World', 'NOUN'), ('Report', 'NOUN'), ('.', '.')], [('Under', 'ADP'), ('the', 'DET'), ('state', 'NOUN'), (\"'s\", 'PRT'), ('Education', 'NOUN'), ('Improvement', 'NOUN'), ('Act', 'NOUN'), (',', '.'), ('low', 'ADJ'), ('test', 'NOUN'), ('scores', 'NOUN'), ('can', 'VERB'), ('block', 'VERB'), ('students', 'NOUN'), (\"'\", 'PRT'), ('promotions', 'NOUN'), ('or', 'CONJ'), ('force', 'VERB'), ('entire', 'ADJ'), ('districts', 'NOUN'), ('into', 'ADP'), ('wrenching', 'ADJ'), (',', '.'), ('state-supervised', 'ADJ'), ('``', '.'), ('interventions', 'NOUN'), (\"''\", '.'), ('that', 'DET'), ('*T*-86', 'X'), ('can', 'VERB'), ('mean', 'VERB'), ('firings', 'NOUN'), ('.', '.')], [('But', 'CONJ'), ('although', 'ADP'), ('he', 'PRON'), ('thinks', 'VERB'), ('that', 'ADP'), ('it', 'PRON'), ('is', 'VERB'), ('hurting', 'VERB'), ('him', 'PRON'), (',', '.'), ('he', 'PRON'), ('doubts', 'VERB'), ('0', 'X'), ('it', 'PRON'), ('could', 'VERB'), ('be', 'VERB'), ('stopped', 'VERB'), ('*-1', 'X'), ('.', '.')], [('``', '.'), ('I', 'PRON'), ('do', 'VERB'), ('not', 'ADV'), ('want', 'VERB'), ('my', 'PRON'), ('money', 'NOUN'), ('invested', 'VERB'), ('*-2', 'X'), ('in', 'ADP'), ('what', 'PRON'), ('I', 'PRON'), ('consider', 'VERB'), ('*T*-3', 'X'), ('as', 'ADP'), ('nothing', 'NOUN'), ('more', 'ADJ'), ('than', 'ADP'), ('a', 'DET'), ('casino', 'NOUN'), (',', '.'), (\"''\", '.'), ('Mr.', 'NOUN'), ('Bradley', 'NOUN'), ('wrote', 'VERB'), ('*T*-1', 'X'), ('.', '.')], [('Much', 'ADV'), ('of', 'ADP'), ('Mr.', 'NOUN'), ('Lane', 'NOUN'), (\"'s\", 'PRT'), ('film', 'NOUN'), ('takes', 'VERB'), ('a', 'DET'), ('highly', 'ADV'), ('romanticized', 'VERB'), ('view', 'NOUN'), ('of', 'ADP'), ('life', 'NOUN'), ('on', 'ADP'), ('the', 'DET'), ('streets', 'NOUN'), ('-LRB-', '.'), ('though', 'ADP'), ('probably', 'ADV'), ('no', 'DET'), ('more', 'ADV'), ('romanticized', 'VERB'), ('than', 'ADP'), ('Mr.', 'NOUN'), ('Chaplin', 'NOUN'), (\"'s\", 'PRT'), ('notion', 'NOUN'), ('of', 'ADP'), ('the', 'DET'), ('Tramp', 'NOUN'), ('as', 'ADP'), ('the', 'DET'), ('good-hearted', 'ADJ'), ('free', 'ADJ'), ('spirit', 'NOUN'), ('-RRB-', '.'), ('.', '.')], [('*', 'X'), ('Adopting', 'VERB'), ('a', 'DET'), ('training-wage', 'ADJ'), ('policy', 'NOUN'), ('means', 'VERB'), ('``', '.'), ('*', 'X'), ('getting', 'VERB'), ('beyond', 'ADP'), ('the', 'DET'), ('nickel', 'NOUN'), ('and', 'CONJ'), ('diming', 'NOUN'), ('of', 'ADP'), ('the', 'DET'), ('minimum', 'ADJ'), ('wage', 'NOUN'), (',', '.'), (\"''\", '.'), ('Mrs.', 'NOUN'), ('Roukema', 'NOUN'), ('said', 'VERB'), ('0', 'X'), ('*T*-1', 'X'), ('.', '.')], [('Integra-A', 'NOUN'), ('Hotel', 'NOUN'), ('&', 'CONJ'), ('Restaurant', 'NOUN'), ('Co.', 'NOUN'), ('said', 'VERB'), ('0', 'X'), ('its', 'PRON'), ('planned', 'VERB'), ('rights', 'NOUN'), ('offering', 'NOUN'), ('0', 'X'), ('*T*-1', 'X'), ('to', 'PRT'), ('raise', 'VERB'), ('about', 'ADV'), ('$', '.'), ('9', 'NUM'), ('million', 'NUM'), ('*U*', 'X'), ('was', 'VERB'), ('declared', 'VERB'), ('*-103', 'X'), ('effective', 'ADJ'), ('and', 'CONJ'), ('the', 'DET'), ('company', 'NOUN'), ('will', 'VERB'), ('begin', 'VERB'), ('*-2', 'X'), ('mailing', 'VERB'), ('materials', 'NOUN'), ('to', 'PRT'), ('shareholders', 'NOUN'), ('at', 'ADP'), ('the', 'DET'), ('end', 'NOUN'), ('of', 'ADP'), ('this', 'DET'), ('week', 'NOUN'), ('.', '.')], [('For', 'ADP'), ('the', 'DET'), ('period', 'NOUN'), ('ended', 'VERB'), ('Sept.30', 'NUM'), (',', '.'), ('it', 'PRON'), ('earned', 'VERB'), ('16.68', 'NUM'), ('billion', 'NUM'), ('yen', 'NOUN'), (',', '.'), ('-LRB-', '.'), ('US$', '.'), ('116.7', 'NUM'), ('million', 'NUM'), ('*U*', 'X'), ('-RRB-', '.'), ('up', 'ADV'), ('from', 'ADP'), ('12.68', 'NUM'), ('billion', 'NUM'), ('yen', 'NOUN'), ('the', 'DET'), ('year', 'NOUN'), ('before', 'ADP'), ('.', '.')], [('On', 'ADP'), ('the', 'DET'), ('receiving', 'VERB'), ('end', 'NOUN'), ('of', 'ADP'), ('the', 'DET'), ('message', 'NOUN'), ('were', 'VERB'), ('*T*-1', 'X'), ('officials', 'NOUN'), ('from', 'ADP'), ('giants', 'NOUN'), ('like', 'ADP'), ('Du', 'NOUN'), ('Pont', 'NOUN'), ('and', 'CONJ'), ('Maytag', 'NOUN'), (',', '.'), ('along', 'ADP'), ('with', 'ADP'), ('lesser', 'ADJ'), ('knowns', 'NOUN'), ('like', 'ADP'), ('Trojan', 'NOUN'), ('Steel', 'NOUN'), ('and', 'CONJ'), ('the', 'DET'), ('Valley', 'NOUN'), ('Queen', 'NOUN'), ('Cheese', 'NOUN'), ('Factory', 'NOUN'), ('.', '.')]]\n"
     ]
    }
   ],
   "source": [
    "# split data into training and validation set in the ratio 95:5\n",
    "random.seed(1234)\n",
    "train_set, test_set = train_test_split(data, train_size=0.95, test_size=0.05)\n",
    "\n",
    "print(\"Training Set Length -\", len(train_set))\n",
    "print(\"Testing Set Length -\", len(test_set))\n",
    "print(\"-\" * 100)\n",
    "print(\"Training Data -\\n\")\n",
    "print(train_set[:10])"
   ]
  },
  {
   "cell_type": "code",
   "execution_count": 11,
   "metadata": {},
   "outputs": [
    {
     "name": "stdout",
     "output_type": "stream",
     "text": [
      "Train Tagged Words -  95490\n",
      "Train Tagged Words -  5186\n"
     ]
    },
    {
     "data": {
      "text/plain": [
       "[('Montedison', 'NOUN'),\n",
       " ('currently', 'ADV'),\n",
       " ('owns', 'VERB'),\n",
       " ('about', 'ADP'),\n",
       " ('72', 'NUM'),\n",
       " ('%', 'NOUN'),\n",
       " ('of', 'ADP'),\n",
       " ('Erbamont', 'NOUN'),\n",
       " (\"'s\", 'PRT'),\n",
       " ('common', 'ADJ')]"
      ]
     },
     "execution_count": 11,
     "metadata": {},
     "output_type": "execute_result"
    }
   ],
   "source": [
    "# Getting list of train and test tagged words\n",
    "train_tagged_words = [tup for sent in train_set for tup in sent]\n",
    "print(\"Train Tagged Words - \", len(train_tagged_words))\n",
    "\n",
    "test_tagged_words = [tup[0] for sent in test_set for tup in sent]\n",
    "print(\"Train Tagged Words - \", len(test_tagged_words))\n",
    "\n",
    "\n",
    "# Let's have a look at the tagged words in the training set\n",
    "train_tagged_words[:10]"
   ]
  },
  {
   "cell_type": "code",
   "execution_count": 15,
   "metadata": {},
   "outputs": [
    {
     "data": {
      "text/plain": [
       "['Montedison',\n",
       " 'currently',\n",
       " 'owns',\n",
       " 'about',\n",
       " '72',\n",
       " '%',\n",
       " 'of',\n",
       " 'Erbamont',\n",
       " \"'s\",\n",
       " 'common']"
      ]
     },
     "execution_count": 15,
     "metadata": {},
     "output_type": "execute_result"
    }
   ],
   "source": [
    " #tokens in the train set - train_tagged_words\n",
    "train_tagged_tokens = [tag[0] for tag in train_tagged_words]\n",
    "train_tagged_tokens[:10]"
   ]
  },
  {
   "cell_type": "code",
   "execution_count": 16,
   "metadata": {},
   "outputs": [
    {
     "data": {
      "text/plain": [
       "['NOUN', 'ADV', 'VERB', 'ADP', 'NUM', 'NOUN', 'ADP', 'NOUN', 'PRT', 'ADJ']"
      ]
     },
     "execution_count": 16,
     "metadata": {},
     "output_type": "execute_result"
    }
   ],
   "source": [
    "# POS tags for the tokens in the train set - train_tagged_words\n",
    "\n",
    "train_tagged_pos_tokens = [tag[1] for tag in train_tagged_words]\n",
    "train_tagged_pos_tokens[:10]"
   ]
  },
  {
   "cell_type": "code",
   "execution_count": 17,
   "metadata": {},
   "outputs": [],
   "source": [
    "# building the train vocabulary to a set\n",
    "training_vocabulary_set = set(train_tagged_tokens)"
   ]
  },
  {
   "cell_type": "code",
   "execution_count": 18,
   "metadata": {},
   "outputs": [],
   "source": [
    "# building the POS tags to a set\n",
    "training_pos_tag_set = set(train_tagged_pos_tokens)"
   ]
  },
  {
   "cell_type": "code",
   "execution_count": 19,
   "metadata": {},
   "outputs": [
    {
     "name": "stdout",
     "output_type": "stream",
     "text": [
      "12\n"
     ]
    }
   ],
   "source": [
    "# let's check how many unique tags are present in training data\n",
    "print(len(training_pos_tag_set))"
   ]
  },
  {
   "cell_type": "code",
   "execution_count": 20,
   "metadata": {},
   "outputs": [
    {
     "name": "stdout",
     "output_type": "stream",
     "text": [
      "12049\n"
     ]
    }
   ],
   "source": [
    "# let's check how many words are present in vocabulary\n",
    "print(len(training_vocabulary_set))"
   ]
  },
  {
   "cell_type": "markdown",
   "metadata": {},
   "source": [
    "### Build the vanilla Viterbi based POS tagger"
   ]
  },
  {
   "cell_type": "code",
   "execution_count": 37,
   "metadata": {},
   "outputs": [],
   "source": [
    "# compute emission probability for a given word for a given tag\n",
    "def word_given_tag_emission(word, tag, train_bag = train_tagged_words):\n",
    "    tag_list = [pair for pair in train_bag if pair[1] == tag]\n",
    "    tag_count = len(tag_list)    \n",
    "    word_given_tag_list = [pair[0] for pair in tag_list if pair[0] == word]    \n",
    "    word_given_tag_count = len(word_given_tag_list)    \n",
    "    \n",
    "    return (word_given_tag_count, tag_count)"
   ]
  },
  {
   "cell_type": "code",
   "execution_count": 38,
   "metadata": {},
   "outputs": [],
   "source": [
    "# compute transition probabilities of a previous and next tag\n",
    "def t2_given_t1(t2, t1, train_bag = train_tagged_words):\n",
    "    tags = [pair[1] for pair in train_bag]\n",
    "    \n",
    "    t1_tags_list = [tag for tag in tags if tag == t1]\n",
    "    t1_tags_count = len(t1_tags_list)\n",
    "    \n",
    "    t2_given_t1_list = [tags[index+1] for index in range(len(tags)-1) if tags[index] == t1 and tags[index+1] == t2]\n",
    "    t2_given_t1_count = len(t2_given_t1_list)\n",
    "    \n",
    "    return(t2_given_t1_count, t1_tags_count)"
   ]
  },
  {
   "cell_type": "code",
   "execution_count": 39,
   "metadata": {},
   "outputs": [],
   "source": [
    "# computing P(w/t) and storing in [Tags x Vocabulary] matrix.\n",
    "\n",
    "len_pos_tags = len(training_pos_tag_set)\n",
    "len_vocab = len(training_vocabulary_set)"
   ]
  },
  {
   "cell_type": "code",
   "execution_count": 40,
   "metadata": {},
   "outputs": [],
   "source": [
    "# creating t x t transition matrix of training_pos_tag_set\n",
    "\n",
    "\n",
    "tags_matrix = np.zeros((len_pos_tags, len_pos_tags), dtype='float64')\n",
    "for i, t1 in enumerate(list(training_pos_tag_set)):\n",
    "    for j, t2 in enumerate(list(training_pos_tag_set)): \n",
    "        tags_matrix[i, j] = t2_given_t1(t2, t1)[0]/t2_given_t1(t2, t1)[1]"
   ]
  },
  {
   "cell_type": "code",
   "execution_count": 41,
   "metadata": {},
   "outputs": [],
   "source": [
    "# convert the matrix to a df for better readability\n",
    "tags_df = pd.DataFrame(tags_matrix, columns = list(training_pos_tag_set), index=list(training_pos_tag_set))"
   ]
  },
  {
   "cell_type": "code",
   "execution_count": 42,
   "metadata": {},
   "outputs": [
    {
     "data": {
      "text/html": [
       "<div>\n",
       "<style scoped>\n",
       "    .dataframe tbody tr th:only-of-type {\n",
       "        vertical-align: middle;\n",
       "    }\n",
       "\n",
       "    .dataframe tbody tr th {\n",
       "        vertical-align: top;\n",
       "    }\n",
       "\n",
       "    .dataframe thead th {\n",
       "        text-align: right;\n",
       "    }\n",
       "</style>\n",
       "<table border=\"1\" class=\"dataframe\">\n",
       "  <thead>\n",
       "    <tr style=\"text-align: right;\">\n",
       "      <th></th>\n",
       "      <th>NUM</th>\n",
       "      <th>ADJ</th>\n",
       "      <th>ADP</th>\n",
       "      <th>PRT</th>\n",
       "      <th>.</th>\n",
       "      <th>DET</th>\n",
       "      <th>PRON</th>\n",
       "      <th>X</th>\n",
       "      <th>VERB</th>\n",
       "      <th>ADV</th>\n",
       "      <th>CONJ</th>\n",
       "      <th>NOUN</th>\n",
       "    </tr>\n",
       "  </thead>\n",
       "  <tbody>\n",
       "    <tr>\n",
       "      <th>NUM</th>\n",
       "      <td>0.185534</td>\n",
       "      <td>0.032637</td>\n",
       "      <td>0.034696</td>\n",
       "      <td>0.027639</td>\n",
       "      <td>0.117024</td>\n",
       "      <td>0.002940</td>\n",
       "      <td>0.001470</td>\n",
       "      <td>0.211996</td>\n",
       "      <td>0.017936</td>\n",
       "      <td>0.002940</td>\n",
       "      <td>0.013819</td>\n",
       "      <td>0.351367</td>\n",
       "    </tr>\n",
       "    <tr>\n",
       "      <th>ADJ</th>\n",
       "      <td>0.020429</td>\n",
       "      <td>0.065936</td>\n",
       "      <td>0.077230</td>\n",
       "      <td>0.010962</td>\n",
       "      <td>0.066102</td>\n",
       "      <td>0.004816</td>\n",
       "      <td>0.000498</td>\n",
       "      <td>0.021425</td>\n",
       "      <td>0.012290</td>\n",
       "      <td>0.004816</td>\n",
       "      <td>0.017107</td>\n",
       "      <td>0.698389</td>\n",
       "    </tr>\n",
       "    <tr>\n",
       "      <th>ADP</th>\n",
       "      <td>0.063275</td>\n",
       "      <td>0.105708</td>\n",
       "      <td>0.016674</td>\n",
       "      <td>0.001496</td>\n",
       "      <td>0.040081</td>\n",
       "      <td>0.323536</td>\n",
       "      <td>0.069260</td>\n",
       "      <td>0.034203</td>\n",
       "      <td>0.008551</td>\n",
       "      <td>0.014002</td>\n",
       "      <td>0.000962</td>\n",
       "      <td>0.322253</td>\n",
       "    </tr>\n",
       "    <tr>\n",
       "      <th>PRT</th>\n",
       "      <td>0.058192</td>\n",
       "      <td>0.083550</td>\n",
       "      <td>0.019506</td>\n",
       "      <td>0.001951</td>\n",
       "      <td>0.043238</td>\n",
       "      <td>0.101105</td>\n",
       "      <td>0.017880</td>\n",
       "      <td>0.013004</td>\n",
       "      <td>0.399870</td>\n",
       "      <td>0.010078</td>\n",
       "      <td>0.001951</td>\n",
       "      <td>0.249675</td>\n",
       "    </tr>\n",
       "    <tr>\n",
       "      <th>.</th>\n",
       "      <td>0.082187</td>\n",
       "      <td>0.044780</td>\n",
       "      <td>0.091359</td>\n",
       "      <td>0.002248</td>\n",
       "      <td>0.091808</td>\n",
       "      <td>0.172916</td>\n",
       "      <td>0.065552</td>\n",
       "      <td>0.027785</td>\n",
       "      <td>0.088751</td>\n",
       "      <td>0.052963</td>\n",
       "      <td>0.057279</td>\n",
       "      <td>0.222282</td>\n",
       "    </tr>\n",
       "    <tr>\n",
       "      <th>DET</th>\n",
       "      <td>0.021921</td>\n",
       "      <td>0.204190</td>\n",
       "      <td>0.009568</td>\n",
       "      <td>0.000242</td>\n",
       "      <td>0.018045</td>\n",
       "      <td>0.005571</td>\n",
       "      <td>0.003391</td>\n",
       "      <td>0.045537</td>\n",
       "      <td>0.039603</td>\n",
       "      <td>0.012595</td>\n",
       "      <td>0.000606</td>\n",
       "      <td>0.638731</td>\n",
       "    </tr>\n",
       "    <tr>\n",
       "      <th>PRON</th>\n",
       "      <td>0.007347</td>\n",
       "      <td>0.070766</td>\n",
       "      <td>0.022815</td>\n",
       "      <td>0.012761</td>\n",
       "      <td>0.040217</td>\n",
       "      <td>0.009281</td>\n",
       "      <td>0.007347</td>\n",
       "      <td>0.090487</td>\n",
       "      <td>0.488012</td>\n",
       "      <td>0.034803</td>\n",
       "      <td>0.005414</td>\n",
       "      <td>0.210750</td>\n",
       "    </tr>\n",
       "    <tr>\n",
       "      <th>X</th>\n",
       "      <td>0.002860</td>\n",
       "      <td>0.017321</td>\n",
       "      <td>0.144605</td>\n",
       "      <td>0.184967</td>\n",
       "      <td>0.165422</td>\n",
       "      <td>0.054028</td>\n",
       "      <td>0.055458</td>\n",
       "      <td>0.075799</td>\n",
       "      <td>0.201970</td>\n",
       "      <td>0.025584</td>\n",
       "      <td>0.010329</td>\n",
       "      <td>0.061656</td>\n",
       "    </tr>\n",
       "    <tr>\n",
       "      <th>VERB</th>\n",
       "      <td>0.022558</td>\n",
       "      <td>0.063317</td>\n",
       "      <td>0.092019</td>\n",
       "      <td>0.031581</td>\n",
       "      <td>0.035159</td>\n",
       "      <td>0.134023</td>\n",
       "      <td>0.035236</td>\n",
       "      <td>0.218030</td>\n",
       "      <td>0.169026</td>\n",
       "      <td>0.082141</td>\n",
       "      <td>0.005523</td>\n",
       "      <td>0.111388</td>\n",
       "    </tr>\n",
       "    <tr>\n",
       "      <th>ADV</th>\n",
       "      <td>0.032013</td>\n",
       "      <td>0.128713</td>\n",
       "      <td>0.118152</td>\n",
       "      <td>0.014191</td>\n",
       "      <td>0.136964</td>\n",
       "      <td>0.067987</td>\n",
       "      <td>0.015842</td>\n",
       "      <td>0.023102</td>\n",
       "      <td>0.345545</td>\n",
       "      <td>0.079208</td>\n",
       "      <td>0.006931</td>\n",
       "      <td>0.031353</td>\n",
       "    </tr>\n",
       "    <tr>\n",
       "      <th>CONJ</th>\n",
       "      <td>0.043336</td>\n",
       "      <td>0.116496</td>\n",
       "      <td>0.053588</td>\n",
       "      <td>0.004660</td>\n",
       "      <td>0.034483</td>\n",
       "      <td>0.116962</td>\n",
       "      <td>0.058714</td>\n",
       "      <td>0.008854</td>\n",
       "      <td>0.157502</td>\n",
       "      <td>0.054986</td>\n",
       "      <td>0.000466</td>\n",
       "      <td>0.349953</td>\n",
       "    </tr>\n",
       "    <tr>\n",
       "      <th>NOUN</th>\n",
       "      <td>0.009654</td>\n",
       "      <td>0.012323</td>\n",
       "      <td>0.176875</td>\n",
       "      <td>0.044356</td>\n",
       "      <td>0.239917</td>\n",
       "      <td>0.013420</td>\n",
       "      <td>0.004498</td>\n",
       "      <td>0.029071</td>\n",
       "      <td>0.146488</td>\n",
       "      <td>0.017223</td>\n",
       "      <td>0.042674</td>\n",
       "      <td>0.263502</td>\n",
       "    </tr>\n",
       "  </tbody>\n",
       "</table>\n",
       "</div>"
      ],
      "text/plain": [
       "           NUM       ADJ       ADP       PRT         .       DET      PRON  \\\n",
       "NUM   0.185534  0.032637  0.034696  0.027639  0.117024  0.002940  0.001470   \n",
       "ADJ   0.020429  0.065936  0.077230  0.010962  0.066102  0.004816  0.000498   \n",
       "ADP   0.063275  0.105708  0.016674  0.001496  0.040081  0.323536  0.069260   \n",
       "PRT   0.058192  0.083550  0.019506  0.001951  0.043238  0.101105  0.017880   \n",
       ".     0.082187  0.044780  0.091359  0.002248  0.091808  0.172916  0.065552   \n",
       "DET   0.021921  0.204190  0.009568  0.000242  0.018045  0.005571  0.003391   \n",
       "PRON  0.007347  0.070766  0.022815  0.012761  0.040217  0.009281  0.007347   \n",
       "X     0.002860  0.017321  0.144605  0.184967  0.165422  0.054028  0.055458   \n",
       "VERB  0.022558  0.063317  0.092019  0.031581  0.035159  0.134023  0.035236   \n",
       "ADV   0.032013  0.128713  0.118152  0.014191  0.136964  0.067987  0.015842   \n",
       "CONJ  0.043336  0.116496  0.053588  0.004660  0.034483  0.116962  0.058714   \n",
       "NOUN  0.009654  0.012323  0.176875  0.044356  0.239917  0.013420  0.004498   \n",
       "\n",
       "             X      VERB       ADV      CONJ      NOUN  \n",
       "NUM   0.211996  0.017936  0.002940  0.013819  0.351367  \n",
       "ADJ   0.021425  0.012290  0.004816  0.017107  0.698389  \n",
       "ADP   0.034203  0.008551  0.014002  0.000962  0.322253  \n",
       "PRT   0.013004  0.399870  0.010078  0.001951  0.249675  \n",
       ".     0.027785  0.088751  0.052963  0.057279  0.222282  \n",
       "DET   0.045537  0.039603  0.012595  0.000606  0.638731  \n",
       "PRON  0.090487  0.488012  0.034803  0.005414  0.210750  \n",
       "X     0.075799  0.201970  0.025584  0.010329  0.061656  \n",
       "VERB  0.218030  0.169026  0.082141  0.005523  0.111388  \n",
       "ADV   0.023102  0.345545  0.079208  0.006931  0.031353  \n",
       "CONJ  0.008854  0.157502  0.054986  0.000466  0.349953  \n",
       "NOUN  0.029071  0.146488  0.017223  0.042674  0.263502  "
      ]
     },
     "execution_count": 42,
     "metadata": {},
     "output_type": "execute_result"
    }
   ],
   "source": [
    "tags_df"
   ]
  },
  {
   "cell_type": "code",
   "execution_count": 21,
   "metadata": {},
   "outputs": [],
   "source": [
    "# exploratory data analysis\n"
   ]
  },
  {
   "cell_type": "code",
   "execution_count": 43,
   "metadata": {},
   "outputs": [
    {
     "data": {
      "image/png": "[encoded data removed]",
      "text/plain": [
       "<Figure size 1008x576 with 2 Axes>"
      ]
     },
     "metadata": {
      "needs_background": "light"
     },
     "output_type": "display_data"
    }
   ],
   "source": [
    "# heatmap of tags matrix\n",
    "import matplotlib.pyplot as plt\n",
    "import seaborn as sns\n",
    "plt.figure(figsize=(14, 8))\n",
    "sns.heatmap(tags_df, annot = True)\n",
    "plt.show()"
   ]
  },
  {
   "cell_type": "code",
   "execution_count": 44,
   "metadata": {},
   "outputs": [
    {
     "data": {
      "image/png": "[encoded data removed]",
      "text/plain": [
       "<Figure size 1080x720 with 2 Axes>"
      ]
     },
     "metadata": {
      "needs_background": "light"
     },
     "output_type": "display_data"
    }
   ],
   "source": [
    "# frequent tags\n",
    "# filter the df to get P(t2, t1) > 0.5\n",
    "tags_frequent = tags_df[tags_df>0.5]\n",
    "plt.figure(figsize=(15, 10))\n",
    "sns.heatmap(tags_frequent, annot = True)\n",
    "plt.show()"
   ]
  },
  {
   "cell_type": "code",
   "execution_count": 45,
   "metadata": {},
   "outputs": [],
   "source": [
    "# Vanilla Viterbi Algorithm\n",
    "def Vanilla_Viterbi(words, train_bag = train_tagged_words):\n",
    "    state = []\n",
    "    \n",
    "    T = list(set([pair[1] for pair in train_bag]))\n",
    "    \n",
    "    for key, word in enumerate(words):\n",
    "        p = [] \n",
    "        for tag in T:\n",
    "            if key == 0:\n",
    "                transition_p = tags_df.loc['.', tag]\n",
    "            else:\n",
    "                transition_p = tags_df.loc[state[-1], tag]\n",
    "                \n",
    "            # compute emission and state probabilities\n",
    "            emission_p = word_given_tag_emission(words[key], tag)[0]/word_given_tag_emission(words[key], tag)[1]\n",
    "            state_probability = emission_p * transition_p    \n",
    "            p.append(state_probability)\n",
    "            \n",
    "        pmax = max(p)\n",
    "        # getting state for which probability is maximum\n",
    "        state_max = T[p.index(pmax)] \n",
    "        state.append(state_max)\n",
    "    return list(zip(words, state))"
   ]
  },
  {
   "cell_type": "code",
   "execution_count": 46,
   "metadata": {},
   "outputs": [],
   "source": [
    "# Let's test our Viterbi algorithm on a few sample sentences of test dataset\n",
    "\n",
    "random.seed(1234)\n",
    "\n",
    "# choose random 5 sents\n",
    "rndom = [random.randint(1, len(test_set)) for x in range(5)]\n",
    "\n",
    "# list of sents\n",
    "test_run = [test_set[i] for i in rndom]\n",
    "\n",
    "# list of tagged words\n",
    "test_run_base = [tup for sent in test_run for tup in sent]\n",
    "\n",
    "# list of untagged words\n",
    "test_tagged_words = [tup[0] for sent in test_run for tup in sent]"
   ]
  },
  {
   "cell_type": "code",
   "execution_count": 47,
   "metadata": {},
   "outputs": [
    {
     "name": "stdout",
     "output_type": "stream",
     "text": [
      "Time taken in seconds:  16.928482055664062\n",
      "Vanilla Viterbi Algorithm Accuracy:  86.60714285714286\n"
     ]
    }
   ],
   "source": [
    "# tagging the test sentences\n",
    "start = time.time()\n",
    "tagged_seq = Vanilla_Viterbi(test_tagged_words)\n",
    "end = time.time()\n",
    "difference = end-start\n",
    "\n",
    "print(\"Time taken in seconds: \", difference)\n",
    "\n",
    "# accuracy\n",
    "vanilla_viterbi_word_check = [i for i, j in zip(tagged_seq, test_run_base) if i == j] \n",
    "vanilla_viterbi_accuracy = len(vanilla_viterbi_word_check)/len(tagged_seq) * 100\n",
    "print('Vanilla Viterbi Algorithm Accuracy: ', vanilla_viterbi_accuracy)"
   ]
  },
  {
   "cell_type": "code",
   "execution_count": 48,
   "metadata": {},
   "outputs": [
    {
     "name": "stdout",
     "output_type": "stream",
     "text": [
      "Total Incorrect Tagged Words : 15\n",
      "\n",
      "\n",
      "Incorrect Tagged Words : [(('automated', 'NUM'), ('automated', 'VERB')), (('threatens', 'NUM'), ('threatens', 'VERB')), (('dinosaurs', 'NUM'), ('dinosaurs', 'NOUN')), (('stock-specialist', 'NUM'), ('stock-specialist', 'ADJ')), (('*T*-88', 'NUM'), ('*T*-88', 'X')), (('ushered', 'NUM'), ('ushered', 'VERB')), (('in', 'ADP'), ('in', 'PRT')), (('public', 'NOUN'), ('public', 'ADJ')), (('betterment', 'NUM'), ('betterment', 'NOUN')), (('Hoffman', 'NUM'), ('Hoffman', 'NOUN')), (('specializing', 'NUM'), ('specializing', 'VERB')), (('retaliation', 'NUM'), ('retaliation', 'NOUN')), (('intellectual', 'NUM'), ('intellectual', 'ADJ')), (('improvements', 'NUM'), ('improvements', 'NOUN')), (('ACQUISITION', 'NUM'), ('ACQUISITION', 'NOUN'))]\n"
     ]
    }
   ],
   "source": [
    "# let's check the incorrectly tagged words\n",
    "incorrect_tagged_words = [j for i, j in enumerate(zip(tagged_seq, test_run_base)) if j[0] != j[1]]\n",
    "\n",
    "print(\"Total Incorrect Tagged Words :\", len(incorrect_tagged_words))\n",
    "print(\"\\n\")\n",
    "print(\"Incorrect Tagged Words :\", incorrect_tagged_words)"
   ]
  },
  {
   "cell_type": "code",
   "execution_count": 49,
   "metadata": {},
   "outputs": [
    {
     "name": "stdout",
     "output_type": "stream",
     "text": [
      "Total Unknown words : 13\n",
      "\n",
      "\n",
      "Unknown Words : ['ushered', 'stock-specialist', 'dinosaurs', 'improvements', 'specializing', 'threatens', 'ACQUISITION', '*T*-88', 'automated', 'intellectual', 'retaliation', 'Hoffman', 'betterment']\n"
     ]
    }
   ],
   "source": [
    "# Unknown words \n",
    "\n",
    "test_vocabulary_set = set([t for t in test_tagged_words])\n",
    "\n",
    "unknown_words = list(test_vocabulary_set - training_vocabulary_set)\n",
    "print(\"Total Unknown words :\", len(unknown_words))\n",
    "print(\"\\n\")\n",
    "print(\"Unknown Words :\", unknown_words)"
   ]
  },
  {
   "cell_type": "markdown",
   "metadata": {},
   "source": [
    "### Solve the problem of unknown words"
   ]
  },
  {
   "cell_type": "code",
   "execution_count": 50,
   "metadata": {},
   "outputs": [
    {
     "name": "stdout",
     "output_type": "stream",
     "text": [
      "The accuracy of the Unigram Tagger is - 0.9012726571538758\n"
     ]
    }
   ],
   "source": [
    "#unigram\n",
    "\n",
    "# Lexicon (or unigram tagger)\n",
    "\n",
    "unigram_tagger = nltk.UnigramTagger(train_set)\n",
    "accuracy_unigram_tagger = unigram_tagger.evaluate(test_set)\n",
    "print(\"The accuracy of the Unigram Tagger is -\", accuracy_unigram_tagger)"
   ]
  },
  {
   "cell_type": "code",
   "execution_count": 51,
   "metadata": {},
   "outputs": [],
   "source": [
    "# patterns for tagging using a rule based regex tagger -\n",
    "\n",
    "patterns = [\n",
    "    (r'^[aA-zZ].*[0-9]+','NOUN'),  # Alpha Numeric\n",
    "    (r'.*ness$', 'NOUN'),\n",
    "    (r'.*\\'s$', 'NOUN'),              # possessive nouns\n",
    "    (r'.*s$', 'NOUN'),                # plural nouns\n",
    "    (r'.*', 'NOUN'),    \n",
    "    (r'.*ly$', 'ADV'),\n",
    "    (r'^(0|([*|-|$].*))','X'), # Any special character combination\n",
    "    (r'.*ould$', 'X'), # modals\n",
    "    (r'(The|the|A|a|An|an)$', 'DET'),\n",
    "    (r'^([0-9]|[aA-zZ])+\\-[aA-zZ]*$','ADJ'),\n",
    "    (r'.*able$', 'ADJ'), # adjective like 100-megabytes 237-Seats\n",
    "    (r'[aA-zZ]+(ed|ing|es)$', 'VERB'), # Any word ending with 'ing' or 'ed' is a verb\n",
    "    (r'[0-9].?[,\\/]?[0-9]*','NUM')# Numbers \n",
    "    ]"
   ]
  },
  {
   "cell_type": "code",
   "execution_count": 52,
   "metadata": {},
   "outputs": [
    {
     "name": "stdout",
     "output_type": "stream",
     "text": [
      "The accuracy of the Unigram Tagger backed up by the RegexpTagger is - 0.9371384496721944\n"
     ]
    }
   ],
   "source": [
    "# rule based tagger\n",
    "\n",
    "rule_based_tagger = nltk.RegexpTagger(patterns)\n",
    "\n",
    "# unigram tagger backed up by the rule-based tagger\n",
    "rule_based_unigram_tagger = nltk.UnigramTagger(train_set, backoff = rule_based_tagger)\n",
    "\n",
    "accuracy_rule_based_unigram_tagger = rule_based_unigram_tagger.evaluate(test_set)\n",
    "\n",
    "print(\"The accuracy of the Unigram Tagger backed up by the RegexpTagger is -\", accuracy_rule_based_unigram_tagger)"
   ]
  },
  {
   "cell_type": "code",
   "execution_count": 53,
   "metadata": {},
   "outputs": [
    {
     "name": "stdout",
     "output_type": "stream",
     "text": [
      "0.939259544928654\n"
     ]
    }
   ],
   "source": [
    "# Bigram tagger\n",
    "\n",
    "bigram_tagger = nltk.BigramTagger(train_set, backoff=rule_based_unigram_tagger)\n",
    "bigram_tagger.evaluate(test_set)\n",
    "accuracy_bigram_tagger = bigram_tagger.evaluate(test_set)\n",
    "print(accuracy_bigram_tagger)"
   ]
  },
  {
   "cell_type": "code",
   "execution_count": 54,
   "metadata": {},
   "outputs": [
    {
     "name": "stdout",
     "output_type": "stream",
     "text": [
      "The accuracy of the Trigram Tagger backed up by the bigram_tagger is - 0.9379097570381797\n"
     ]
    }
   ],
   "source": [
    "# Trigram tagger\n",
    "\n",
    "trigram_tagger = nltk.TrigramTagger(train_set, backoff = bigram_tagger)\n",
    "trigram_tagger.evaluate(test_set)\n",
    "accuracy_trigram_tagger = trigram_tagger.evaluate(test_set)\n",
    "print(\"The accuracy of the Trigram Tagger backed up by the bigram_tagger is -\", accuracy_trigram_tagger)"
   ]
  },
  {
   "cell_type": "code",
   "execution_count": 55,
   "metadata": {},
   "outputs": [],
   "source": [
    "# use transition probability of tags when emission probability is zero (in case of unknown words)\n",
    "\n",
    "def Vanilla_Viterbi_for_Unknown_Words(words, train_bag = train_tagged_words):\n",
    "    state = []\n",
    "    T = list(set([pair[1] for pair in train_bag]))\n",
    "    \n",
    "    for key, word in enumerate(words):\n",
    "        p = [] \n",
    "        p_transition =[] # list for storing transition probabilities\n",
    "        for tag in T:\n",
    "            if key == 0:\n",
    "                transition_p = tags_df.loc['.', tag]\n",
    "            else:\n",
    "                transition_p = tags_df.loc[state[-1], tag]\n",
    "                \n",
    "            # compute emission and state probabilities\n",
    "            emission_p = word_given_tag_emission(words[key], tag)[0]/word_given_tag_emission(words[key], tag)[1]\n",
    "            state_probability = emission_p * transition_p    \n",
    "            p.append(state_probability)\n",
    "            p_transition.append(transition_p)\n",
    "            \n",
    "        pmax = max(p)\n",
    "        state_max = T[p.index(pmax)] \n",
    "        \n",
    "      \n",
    "        # if probability is zero (unknown word) then use transition probability\n",
    "        if(pmax==0):\n",
    "            pmax = max(p_transition)\n",
    "            state_max = T[p_transition.index(pmax)]\n",
    "                           \n",
    "        else:\n",
    "            state_max = T[p.index(pmax)] \n",
    "        \n",
    "        state.append(state_max)\n",
    "    return list(zip(words, state))"
   ]
  },
  {
   "cell_type": "code",
   "execution_count": 56,
   "metadata": {},
   "outputs": [
    {
     "name": "stdout",
     "output_type": "stream",
     "text": [
      "Time taken in seconds:  16.89920663833618\n",
      "Vanilla Viterbi for Unknown Words Accuracy:  91.07142857142857\n"
     ]
    }
   ],
   "source": [
    "# tagging the test sentences\n",
    "start = time.time()\n",
    "tagged_seq = Vanilla_Viterbi_for_Unknown_Words(test_tagged_words)\n",
    "end = time.time()\n",
    "difference = end-start\n",
    "\n",
    "print(\"Time taken in seconds: \", difference)\n",
    "\n",
    "# accuracy\n",
    "check = [i for i, j in zip(tagged_seq, test_run_base) if i == j] \n",
    "accuracy = len(check)/len(tagged_seq)\n",
    "print('Vanilla Viterbi for Unknown Words Accuracy: ',accuracy*100)"
   ]
  },
  {
   "cell_type": "code",
   "execution_count": 57,
   "metadata": {},
   "outputs": [
    {
     "data": {
      "text/plain": [
       "[('NUM', 0.03561629489998953),\n",
       " ('ADJ', 0.06305372290292177),\n",
       " ('ADP', 0.09797884595245575),\n",
       " ('PRT', 0.03221279715153419),\n",
       " ('.', 0.11646245680175935),\n",
       " ('DET', 0.08646978741229448),\n",
       " ('PRON', 0.027081369776939992),\n",
       " ('X', 0.06590218871085977),\n",
       " ('VERB', 0.1346318986281286),\n",
       " ('ADV', 0.03173107131636821),\n",
       " ('CONJ', 0.022473557440569693),\n",
       " ('NOUN', 0.28638600900617867)]"
      ]
     },
     "execution_count": 57,
     "metadata": {},
     "output_type": "execute_result"
    }
   ],
   "source": [
    "# lets create a list containing tuples of POS tags and POS tag occurance probability, based on training data\n",
    "tag_prob = []\n",
    "total_tag = len([tag for word,tag in train_tagged_words])\n",
    "for t in training_pos_tag_set:\n",
    "    each_tag = [tag for word,tag in train_tagged_words if tag==t]\n",
    "    tag_prob.append((t,len(each_tag)/total_tag))\n",
    "\n",
    "tag_prob"
   ]
  },
  {
   "cell_type": "code",
   "execution_count": 59,
   "metadata": {},
   "outputs": [],
   "source": [
    "\n",
    "def Vanilla_Viterbi_for_Unknown_Words_Modified(words, train_bag = train_tagged_words):\n",
    "    state = []\n",
    "    T = list(set([pair[1] for pair in train_bag]))\n",
    "    \n",
    "    for key, word in enumerate(words):\n",
    "        p = [] \n",
    "        p_transition =[] # list for storing transition probabilities\n",
    "       \n",
    "        for tag in T:\n",
    "            if key == 0:\n",
    "                transition_p = tags_df.loc['.', tag]\n",
    "            else:\n",
    "                transition_p = tags_df.loc[state[-1], tag]\n",
    "                \n",
    "            # compute emission and state probabilities\n",
    "            emission_p = word_given_tag_emission(words[key], tag)[0]/word_given_tag_emission(words[key], tag)[1]\n",
    "            state_probability = emission_p * transition_p    \n",
    "            p.append(state_probability)\n",
    "            \n",
    "            # find POS tag occurance probability\n",
    "            tag_p = [pair[1] for pair in tag_prob if pair[0]==tag ]\n",
    "            \n",
    "            # calculate the transition prob weighted by tag occurance probability.\n",
    "            transition_p = tag_p[0]*transition_p             \n",
    "            p_transition.append(transition_p)\n",
    "            \n",
    "        pmax = max(p)\n",
    "        state_max = T[p.index(pmax)] \n",
    "        \n",
    "      \n",
    "        # if probability is zero (unknown word) then use weighted transition probability\n",
    "        if(pmax==0):\n",
    "            pmax = max(p_transition)\n",
    "            state_max = T[p_transition.index(pmax)]                 \n",
    "                           \n",
    "        else:\n",
    "            state_max = T[p.index(pmax)] \n",
    "        \n",
    "        state.append(state_max)\n",
    "    return list(zip(words, state))"
   ]
  },
  {
   "cell_type": "code",
   "execution_count": 61,
   "metadata": {},
   "outputs": [
    {
     "name": "stdout",
     "output_type": "stream",
     "text": [
      "Time taken in seconds:  16.824286937713623\n",
      "Modified Vanilla Viterbi for Unknown Words ACC:  91.96428571428571\n"
     ]
    }
   ],
   "source": [
    "# tagging the test sentences\n",
    "start = time.time()\n",
    "tagged_seq = Vanilla_Viterbi_for_Unknown_Words_Modified(test_tagged_words)\n",
    "end = time.time()\n",
    "difference = end-start\n",
    "\n",
    "print(\"Time taken in seconds: \", difference)\n",
    "\n",
    "# accuracy\n",
    "viterbi_word_check = [i for i, j in zip(tagged_seq, test_run_base) if i == j] \n",
    "accuracy_viterbi_modified = len(viterbi_word_check)/len(tagged_seq) * 100\n",
    "print('Modified Vanilla Viterbi for Unknown Words ACC: ', accuracy_viterbi_modified)"
   ]
  },
  {
   "cell_type": "code",
   "execution_count": 62,
   "metadata": {},
   "outputs": [],
   "source": [
    "# A trigram tagger backed off by a rule based tagger.\n",
    "\n",
    "def trigram_tagger(word, train_set = train_set):\n",
    "    \n",
    "    patterns = [\n",
    "    (r'[aA-zZ]+(ed|ing|es)$', 'VERB'), # Any word ending with 'ing' or 'ed' is a verb\n",
    "\n",
    "    (r'.*ly$', 'ADV'),\n",
    "        \n",
    "    (r'^([0-9]|[aA-zZ])+\\-[aA-zZ]*$','ADJ'),\n",
    "    (r'.*able$', 'ADJ'), \n",
    "    (r'.*ful$', 'ADJ'),\n",
    "    (r'.*ous$', 'ADJ'),\n",
    "        \n",
    "    (r'^[aA-zZ].*[0-9]+','NOUN'),     # Alpha Numeric\n",
    "    (r'.*ness$', 'NOUN'),\n",
    "    (r'.*\\'s$', 'NOUN'),              # possessive nouns - words ending with 's\n",
    "    (r'.*s$', 'NOUN'),                # plural nouns\n",
    "    (r'.*ers$', 'NOUN'),              # eg.- kinderganteners, autobioghapgers\n",
    "    (r'.*ment$', 'NOUN'),\n",
    "    (r'.*town$', 'NOUN'),\n",
    "        \n",
    "    (r'^(0|([*|-|$].*))','X'), # Any special character combination\n",
    "    (r'.*ould$', 'X'),\n",
    "        \n",
    "    (r'(The|the|A|a|An|an|That|that|This|this|Those|those|These|these)$', 'DET'), # That/this/these/those belong to the category of Demonstrative determiners\n",
    "    (r'[0-9].?[,\\/]?[0-9]*','NUM'), # Numbers \n",
    "        \n",
    "    (r'.*', 'NOUN')\n",
    "    ]\n",
    "\n",
    "    regex_based_tagger = nltk.RegexpTagger(patterns)\n",
    "\n",
    "    # trigram backed up by the regex tagger\n",
    "    trigram_regex_tagger = nltk.TrigramTagger(train_set, backoff = regex_based_tagger)\n",
    "    return trigram_regex_tagger.tag_sents([[(word)]])"
   ]
  },
  {
   "cell_type": "code",
   "execution_count": 63,
   "metadata": {},
   "outputs": [],
   "source": [
    "# viterbi with handling for unknown words from regex tagger\n",
    "\n",
    "def Viterbi_Trigram_Tagger(words, train_bag = train_tagged_words):\n",
    "    state = []\n",
    "    T = list(set([pair[1] for pair in train_bag]))\n",
    "    \n",
    "    for key, word in enumerate(words):\n",
    "        # unknown words from trigram taggr\n",
    "        if word not in training_vocabulary_set:\n",
    "            unk_word_tag=trigram_tagger(word)\n",
    "            for sent in unk_word_tag:\n",
    "                for tup in sent:\n",
    "                    state.append(tup[1])\n",
    "        # rest remains same            \n",
    "        else:            \n",
    "            p = [] \n",
    "            for tag in T:\n",
    "                if key == 0:\n",
    "                    transition_p = tags_df.loc['.', tag]\n",
    "                else:\n",
    "                    transition_p = tags_df.loc[state[-1], tag]\n",
    "                \n",
    "            # compute emission and state probabilities\n",
    "                emission_p = word_given_tag_emission(words[key], tag)[0]/word_given_tag_emission(words[key], tag)[1]\n",
    "                state_probability = emission_p * transition_p    \n",
    "                p.append(state_probability)\n",
    "            \n",
    "            pmax = max(p)\n",
    "            # getting state for which probability is maximum\n",
    "            state_max = T[p.index(pmax)] \n",
    "            state.append(state_max)\n",
    "            \n",
    "    return list(zip(words, state))"
   ]
  },
  {
   "cell_type": "markdown",
   "metadata": {},
   "source": [
    "#### Evaluating tagging accuracy"
   ]
  },
  {
   "cell_type": "code",
   "execution_count": 64,
   "metadata": {},
   "outputs": [
    {
     "name": "stdout",
     "output_type": "stream",
     "text": [
      "Time taken in seconds:  47.07866597175598\n",
      "Modified Viterbi Trigram Tagger Accuracy:  96.42857142857143\n"
     ]
    }
   ],
   "source": [
    "# tagging the test sentences\n",
    "start = time.time()\n",
    "tagged_seq = Viterbi_Trigram_Tagger(test_tagged_words)\n",
    "end = time.time()\n",
    "difference = end-start\n",
    "\n",
    "print(\"Time taken in seconds: \", difference)\n",
    "\n",
    "# accuracy\n",
    "viterbi_trigram_word_check = [i for i, j in zip(tagged_seq, test_run_base) if i == j] \n",
    "viterbi_trigram_accuracy = len(viterbi_trigram_word_check)/len(tagged_seq) * 100\n",
    "print('Modified Viterbi Trigram Tagger Accuracy: ', viterbi_trigram_accuracy)"
   ]
  },
  {
   "cell_type": "markdown",
   "metadata": {},
   "source": [
    "### Compare the tagging accuracies of the modifications with the vanilla Viterbi algorithm"
   ]
  },
  {
   "cell_type": "code",
   "execution_count": 65,
   "metadata": {},
   "outputs": [
    {
     "data": {
      "text/html": [
       "<div>\n",
       "<style scoped>\n",
       "    .dataframe tbody tr th:only-of-type {\n",
       "        vertical-align: middle;\n",
       "    }\n",
       "\n",
       "    .dataframe tbody tr th {\n",
       "        vertical-align: top;\n",
       "    }\n",
       "\n",
       "    .dataframe thead th {\n",
       "        text-align: right;\n",
       "    }\n",
       "</style>\n",
       "<table border=\"1\" class=\"dataframe\">\n",
       "  <thead>\n",
       "    <tr style=\"text-align: right;\">\n",
       "      <th></th>\n",
       "      <th>Tagging_Accuracy</th>\n",
       "    </tr>\n",
       "    <tr>\n",
       "      <th>Tagging_Algorithm</th>\n",
       "      <th></th>\n",
       "    </tr>\n",
       "  </thead>\n",
       "  <tbody>\n",
       "    <tr>\n",
       "      <th>Vanilla Viterbi</th>\n",
       "      <td>86.607143</td>\n",
       "    </tr>\n",
       "    <tr>\n",
       "      <th>Vanilla Viterbi Modified</th>\n",
       "      <td>91.964286</td>\n",
       "    </tr>\n",
       "    <tr>\n",
       "      <th>Unigram Tagger</th>\n",
       "      <td>90.127266</td>\n",
       "    </tr>\n",
       "    <tr>\n",
       "      <th>Unigram + RegexpTagger</th>\n",
       "      <td>93.713845</td>\n",
       "    </tr>\n",
       "    <tr>\n",
       "      <th>Bigram Tagger + Unigram_tagger</th>\n",
       "      <td>93.925954</td>\n",
       "    </tr>\n",
       "    <tr>\n",
       "      <th>Trigram Tagger + Bigram_tagger</th>\n",
       "      <td>93.790976</td>\n",
       "    </tr>\n",
       "    <tr>\n",
       "      <th>Viterbi + Trigram_tagger</th>\n",
       "      <td>96.428571</td>\n",
       "    </tr>\n",
       "  </tbody>\n",
       "</table>\n",
       "</div>"
      ],
      "text/plain": [
       "                                Tagging_Accuracy\n",
       "Tagging_Algorithm                               \n",
       "Vanilla Viterbi                        86.607143\n",
       "Vanilla Viterbi Modified               91.964286\n",
       "Unigram Tagger                         90.127266\n",
       "Unigram + RegexpTagger                 93.713845\n",
       "Bigram Tagger + Unigram_tagger         93.925954\n",
       "Trigram Tagger + Bigram_tagger         93.790976\n",
       "Viterbi + Trigram_tagger               96.428571"
      ]
     },
     "execution_count": 65,
     "metadata": {},
     "output_type": "execute_result"
    }
   ],
   "source": [
    "acccuracy_data = [['Vanilla Viterbi', vanilla_viterbi_accuracy], \n",
    "                  ['Vanilla Viterbi Modified', accuracy_viterbi_modified], \n",
    "                  ['Unigram Tagger', accuracy_unigram_tagger * 100],\n",
    "                  ['Unigram + RegexpTagger', accuracy_rule_based_unigram_tagger * 100],\n",
    "                  ['Bigram Tagger + Unigram_tagger', accuracy_bigram_tagger*100],\n",
    "                  ['Trigram Tagger + Bigram_tagger', accuracy_trigram_tagger*100],\n",
    "                  ['Viterbi + Trigram_tagger', viterbi_trigram_accuracy]]\n",
    "\n",
    "acccuracy_data_df = pd.DataFrame(acccuracy_data, columns = ['Tagging_Algorithm', 'Tagging_Accuracy'])\n",
    "\n",
    "acccuracy_data_df.set_index('Tagging_Algorithm', drop = True, inplace = True)\n",
    "\n",
    "acccuracy_data_df"
   ]
  },
  {
   "cell_type": "code",
   "execution_count": 66,
   "metadata": {},
   "outputs": [
    {
     "data": {
      "text/plain": [
       "<AxesSubplot:xlabel='Tagging_Algorithm'>"
      ]
     },
     "execution_count": 66,
     "metadata": {},
     "output_type": "execute_result"
    },
    {
     "data": {
      "image/png": "[encoded data removed]",
      "text/plain": [
       "<Figure size 432x288 with 1 Axes>"
      ]
     },
     "metadata": {
      "needs_background": "light"
     },
     "output_type": "display_data"
    }
   ],
   "source": [
    "acccuracy_data_df.plot.line(rot = 90, legend = False)"
   ]
  },
  {
   "cell_type": "markdown",
   "metadata": {},
   "source": [
    "### List down cases which were incorrectly tagged by original POS tagger and got corrected by your modifications"
   ]
  },
  {
   "cell_type": "code",
   "execution_count": 67,
   "metadata": {},
   "outputs": [],
   "source": [
    "from nltk.tokenize import word_tokenize"
   ]
  },
  {
   "cell_type": "code",
   "execution_count": 68,
   "metadata": {},
   "outputs": [
    {
     "name": "stdout",
     "output_type": "stream",
     "text": [
      "[('Reliance', 'NOUN'), ('and', 'CONJ'), ('Facebook', 'NUM'), ('made', 'VERB'), ('a', 'DET'), ('deal', 'NOUN'), ('in', 'ADP'), ('2020', 'NUM'), ('that', 'ADP'), ('gave', 'VERB'), ('Reliance', 'NOUN'), ('access', 'NOUN'), ('to', 'PRT'), ('Facebook', 'NUM'), (\"'s\", 'PRT'), ('firehose', 'NUM'), ('.', '.')]\n"
     ]
    }
   ],
   "source": [
    "## Testing\n",
    "sentence_test_1 = 'Reliance and Facebook made a deal in 2020 that gave Reliance access to Facebook\\'s firehose.'\n",
    "words = word_tokenize(sentence_test_1)\n",
    "tagged_seq = Vanilla_Viterbi(words)\n",
    "print(tagged_seq)"
   ]
  },
  {
   "cell_type": "code",
   "execution_count": 69,
   "metadata": {},
   "outputs": [
    {
     "name": "stdout",
     "output_type": "stream",
     "text": [
      "[('Reliance', 'NOUN'), ('and', 'CONJ'), ('Facebook', 'NOUN'), ('made', 'VERB'), ('a', 'DET'), ('deal', 'NOUN'), ('in', 'ADP'), ('2020', 'NUM'), ('that', 'ADP'), ('gave', 'VERB'), ('Reliance', 'NOUN'), ('access', 'NOUN'), ('to', 'PRT'), ('Facebook', 'NOUN'), (\"'s\", 'PRT'), ('firehose', 'NOUN'), ('.', '.')]\n"
     ]
    }
   ],
   "source": [
    "tagged_seq_modified = Viterbi_Trigram_Tagger(words)\n",
    "print(tagged_seq_modified)"
   ]
  },
  {
   "cell_type": "code",
   "execution_count": 70,
   "metadata": {},
   "outputs": [
    {
     "name": "stdout",
     "output_type": "stream",
     "text": [
      "[('Symbian', 'NUM'), ('is', 'VERB'), ('the', 'DET'), ('least-selling', 'NUM'), ('OS', 'NUM'), ('on', 'ADP'), ('smartphones', 'NUM'), ('since', 'ADP'), ('2011', 'NUM'), ('.', '.')]\n"
     ]
    }
   ],
   "source": [
    "sentence_test_2='Symbian is the least-selling OS on smartphones since 2011.'\n",
    "words = word_tokenize(sentence_test_2)\n",
    "tagged_seq = Vanilla_Viterbi(words)\n",
    "print(tagged_seq)"
   ]
  },
  {
   "cell_type": "code",
   "execution_count": 71,
   "metadata": {},
   "outputs": [
    {
     "name": "stdout",
     "output_type": "stream",
     "text": [
      "[('Symbian', 'NOUN'), ('is', 'VERB'), ('the', 'DET'), ('least-selling', 'ADJ'), ('OS', 'NOUN'), ('on', 'ADP'), ('smartphones', 'VERB'), ('since', 'ADP'), ('2011', 'NUM'), ('.', '.')]\n"
     ]
    }
   ],
   "source": [
    "tagged_seq_modified = Viterbi_Trigram_Tagger(words)\n",
    "print(tagged_seq_modified)"
   ]
  },
  {
   "cell_type": "code",
   "execution_count": 75,
   "metadata": {},
   "outputs": [
    {
     "name": "stdout",
     "output_type": "stream",
     "text": [
      "[('She', 'PRON'), ('commented', 'NUM'), ('a', 'DET'), ('Facebook', 'NUM'), ('post', 'NOUN'), ('taken', 'VERB'), ('from', 'ADP'), ('smartphone', 'NUM'), ('and', 'CONJ'), ('uploaded', 'NUM'), ('results', 'NOUN'), ('to', 'PRT'), ('Insta', 'NUM'), ('.', '.')]\n"
     ]
    }
   ],
   "source": [
    "sentence_test_3='She commented a Facebook post taken from smartphone and uploaded results to Insta.'\n",
    "words = word_tokenize(sentence_test_3)\n",
    "tagged_seq = Vanilla_Viterbi(words)\n",
    "print(tagged_seq)"
   ]
  },
  {
   "cell_type": "code",
   "execution_count": 76,
   "metadata": {},
   "outputs": [
    {
     "name": "stdout",
     "output_type": "stream",
     "text": [
      "[('She', 'PRON'), ('commented', 'VERB'), ('a', 'DET'), ('Facebook', 'NOUN'), ('post', 'NOUN'), ('taken', 'VERB'), ('from', 'ADP'), ('smartphone', 'NOUN'), ('and', 'CONJ'), ('uploaded', 'VERB'), ('results', 'NOUN'), ('to', 'PRT'), ('Insta', 'NOUN'), ('.', '.')]\n"
     ]
    }
   ],
   "source": [
    "tagged_seq_modified = Viterbi_Trigram_Tagger(words)\n",
    "print(tagged_seq_modified)"
   ]
  },
  {
   "cell_type": "code",
   "execution_count": null,
   "metadata": {},
   "outputs": [],
   "source": []
  },
  {
   "cell_type": "code",
   "execution_count": null,
   "metadata": {},
   "outputs": [],
   "source": []
  },
  {
   "cell_type": "code",
   "execution_count": null,
   "metadata": {},
   "outputs": [],
   "source": []
  }
 ],
 "metadata": {
  "kernelspec": {
   "display_name": "Python 3",
   "language": "python",
   "name": "python3"
  },
  "language_info": {
   "codemirror_mode": {
    "name": "ipython",
    "version": 3
   },
   "file_extension": ".py",
   "mimetype": "text/x-python",
   "name": "python",
   "nbconvert_exporter": "python",
   "pygments_lexer": "ipython3",
   "version": "3.7.7"
  }
 },
 "nbformat": 4,
 "nbformat_minor": 2
}
