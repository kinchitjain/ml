{
 "cells": [
  {
   "cell_type": "code",
   "execution_count": 267,
   "metadata": {},
   "outputs": [
    {
     "data": {
      "text/plain": [
       "114942"
      ]
     },
     "execution_count": 267,
     "metadata": {},
     "output_type": "execute_result"
    }
   ],
   "source": [
    "import numpy as np\n",
    "import pandas as pd\n",
    "\n",
    "raw_data_comp=pd.read_csv(\"C:\\\\Users\\\\kinch\\\\Downloads\\\\companies.csv\",delimiter=',',encoding= 'ISO-8859-1')\n",
    "raw_data_round2=pd.read_csv(\"C:\\\\Users\\\\kinch\\\\Downloads\\\\rounds2.csv\",delimiter=',',encoding= 'ISO-8859-1')\n",
    "raw_data_mapping=pd.read_csv(\"C:\\\\Users\\\\kinch\\\\Downloads\\\\mapping.csv\",delimiter=',',encoding= 'ISO-8859-1')\n",
    "\n",
    "\n",
    "\n",
    "\n",
    "\n",
    "df1=pd.DataFrame(raw_data_comp)\n",
    "df2=pd.DataFrame(raw_data_round2)\n",
    "df3=pd.DataFrame(raw_data_mapping)\n",
    "\n",
    "df1['permalink'] = df1['permalink'].str.lower()\n",
    "df2['permalink'] = df2['company_permalink'].str.lower()\n",
    "df2=df2.drop(['company_permalink'],axis=1)\n",
    "#print(len(df2.permalink.unique()))\n",
    "\n",
    "\n",
    "\n",
    "#df.info()\n",
    "\n",
    "len(df1)\n",
    "#66368\n",
    "len(df2)\n",
    "#114949\n",
    "len(df3)\n",
    "#688\n",
    "df2.head()\n",
    "df=pd.merge(df1,df2,how='inner',on='permalink')\n",
    "len(df)\n",
    "#114942\n",
    "\n",
    "#df.head()\n",
    "#df['category_list']=df['category_list'].fillna(\"No\")\n",
    "\n",
    "#df.head()\n",
    "\n",
    "#df_updated = df.replace(to_replace ='%Automotive & Sports%', value = 'Automotive & Sports', regex = True) \n",
    "\n",
    "#df_updated\n",
    "\n",
    "#master_frame['category_list']= master_frame['category_list'].str.replace(\"%Automotive & Sports%\",\"Automotive & Sports\",regex=True, case = False) \n",
    "\n",
    "\n",
    "\n",
    "#master_frame.loc[master_frame['category_list'].str.contains('Automotive & Sports'), 'category_list'] = 'Automotive & Sports'\n",
    "\n",
    "#master_frame.groupby(['category_list']).max()\n",
    "\n",
    "#english=['USA','IND','GBR']\n",
    "#master_frame.loc[:,'country_code'].isin(english)\n",
    "#result= master_frame.query(\"country_code in @english\")\n",
    "#result['funding_round_type']\n",
    "#print(result.groupby(['funding_round_type']).groups)\n",
    "#r1.get_group('seed').raised_amount_usd.mean()\n",
    "\n",
    "#r1.head()\n",
    "#r1.get_group('seed').raised_amount_usd.mean()\n",
    "\n",
    "#print(master_frame['country_code'])\n",
    "#master_frame.shape[0]\n",
    "#df.name.str.lower()\n",
    "#raw_data_comp.head()\n",
    "#df.shape[0]\n",
    "#df.name.unique()\n",
    "#df.name.nunique(dropna = True) \n",
    "\n",
    "#temp=master_frame.groupby(['funding_round_type'])\n",
    "#temp.first()\n",
    "#temp.get_group('private_equity').raised_amount_usd.mean()\n",
    "\n",
    "#temp=master_frame.groupby(['country_code'])\n",
    "#temp.head()\n",
    "#temp.get_group('CHN').raised_amount_usd.mean()\n"
   ]
  },
  {
   "cell_type": "code",
   "execution_count": 268,
   "metadata": {},
   "outputs": [
    {
     "data": {
      "text/plain": [
       "permalink                   0.00\n",
       "name                        0.00\n",
       "homepage_url                5.33\n",
       "category_list               2.96\n",
       "status                      0.00\n",
       "country_code                7.54\n",
       "state_code                  9.52\n",
       "region                      8.84\n",
       "city                        8.84\n",
       "founded_at                 17.85\n",
       "funding_round_permalink     0.00\n",
       "funding_round_type          0.00\n",
       "funding_round_code         72.91\n",
       "funded_at                   0.00\n",
       "raised_amount_usd          17.39\n",
       "dtype: float64"
      ]
     },
     "execution_count": 268,
     "metadata": {},
     "output_type": "execute_result"
    }
   ],
   "source": [
    "df.isnull().any()\n",
    "df.isnull().sum()\n",
    "round(100*(df.isnull().sum()/len(df.index)), 2)\n",
    "\n"
   ]
  },
  {
   "cell_type": "code",
   "execution_count": 269,
   "metadata": {},
   "outputs": [],
   "source": [
    "df = df.drop('funding_round_code', axis=1)\n",
    "df = df.drop('founded_at', axis=1)\n",
    "\n"
   ]
  },
  {
   "cell_type": "code",
   "execution_count": 270,
   "metadata": {},
   "outputs": [
    {
     "data": {
      "text/plain": [
       "permalink                   0.00\n",
       "name                        0.00\n",
       "homepage_url                5.33\n",
       "category_list               2.96\n",
       "status                      0.00\n",
       "country_code                7.54\n",
       "state_code                  9.52\n",
       "region                      8.84\n",
       "city                        8.84\n",
       "funding_round_permalink     0.00\n",
       "funding_round_type          0.00\n",
       "funded_at                   0.00\n",
       "raised_amount_usd          17.39\n",
       "dtype: float64"
      ]
     },
     "execution_count": 270,
     "metadata": {},
     "output_type": "execute_result"
    }
   ],
   "source": [
    "round(100*(df.isnull().sum()/len(df.index)), 2)\n"
   ]
  },
  {
   "cell_type": "code",
   "execution_count": 271,
   "metadata": {},
   "outputs": [],
   "source": [
    "df = df[~np.isnan(df['raised_amount_usd'])]\n"
   ]
  },
  {
   "cell_type": "code",
   "execution_count": 272,
   "metadata": {},
   "outputs": [
    {
     "data": {
      "text/plain": [
       "permalink                  0.00\n",
       "name                       0.00\n",
       "homepage_url               4.56\n",
       "category_list              1.10\n",
       "status                     0.00\n",
       "country_code               6.16\n",
       "state_code                 8.01\n",
       "region                     7.42\n",
       "city                       7.42\n",
       "funding_round_permalink    0.00\n",
       "funding_round_type         0.00\n",
       "funded_at                  0.00\n",
       "raised_amount_usd          0.00\n",
       "dtype: float64"
      ]
     },
     "execution_count": 272,
     "metadata": {},
     "output_type": "execute_result"
    }
   ],
   "source": [
    "round(100*(df.isnull().sum()/len(df.index)), 2)\n"
   ]
  },
  {
   "cell_type": "code",
   "execution_count": 273,
   "metadata": {},
   "outputs": [],
   "source": [
    "df = df.drop('homepage_url', axis=1)\n",
    "df = df.drop('state_code', axis=1)\n",
    "df = df.drop('region', axis=1)\n",
    "df = df.drop('city', axis=1)"
   ]
  },
  {
   "cell_type": "code",
   "execution_count": 274,
   "metadata": {},
   "outputs": [
    {
     "data": {
      "text/plain": [
       "permalink                  0.00\n",
       "name                       0.00\n",
       "category_list              1.10\n",
       "status                     0.00\n",
       "country_code               6.16\n",
       "funding_round_permalink    0.00\n",
       "funding_round_type         0.00\n",
       "funded_at                  0.00\n",
       "raised_amount_usd          0.00\n",
       "dtype: float64"
      ]
     },
     "execution_count": 274,
     "metadata": {},
     "output_type": "execute_result"
    }
   ],
   "source": [
    "round(100*(df.isnull().sum()/len(df.index)), 2)\n"
   ]
  },
  {
   "cell_type": "code",
   "execution_count": 275,
   "metadata": {},
   "outputs": [
    {
     "data": {
      "text/plain": [
       "114949"
      ]
     },
     "execution_count": 275,
     "metadata": {},
     "output_type": "execute_result"
    }
   ],
   "source": [
    "df.loc[pd.isnull(df['country_code']), ['country_code']] = 'Country'\n",
    "df.loc[pd.isnull(df['category_list']), ['category_list']] = \"Category\"\n",
    "round(100*(df.isnull().sum()/len(df.index)), 2)\n",
    "len(df2)"
   ]
  },
  {
   "cell_type": "code",
   "execution_count": 276,
   "metadata": {},
   "outputs": [],
   "source": [
    "df_4=df[df['funding_round_type'].isin(['angel','seed','venture','private_equity'])]"
   ]
  },
  {
   "cell_type": "code",
   "execution_count": 277,
   "metadata": {},
   "outputs": [
    {
     "name": "stdout",
     "output_type": "stream",
     "text": [
      "53914\n"
     ]
    }
   ],
   "source": [
    "df['country_code'].describe()\n",
    "len(df)\n",
    "print(len(df.permalink.unique()))\n"
   ]
  },
  {
   "cell_type": "code",
   "execution_count": null,
   "metadata": {},
   "outputs": [],
   "source": []
  },
  {
   "cell_type": "code",
   "execution_count": 278,
   "metadata": {},
   "outputs": [],
   "source": [
    "# function to strip additional values and retian only the first value\n",
    "def sp(value):\n",
    "    values = value.split('|')\n",
    "    if len(values) > 1:\n",
    "        return values[0]\n",
    "    else:\n",
    "        return value"
   ]
  },
  {
   "cell_type": "code",
   "execution_count": 279,
   "metadata": {},
   "outputs": [
    {
     "data": {
      "text/plain": [
       "'Apps'"
      ]
     },
     "execution_count": 279,
     "metadata": {},
     "output_type": "execute_result"
    }
   ],
   "source": [
    "sp('Apps|Games|Mobile')"
   ]
  },
  {
   "cell_type": "code",
   "execution_count": 280,
   "metadata": {},
   "outputs": [],
   "source": [
    "df['primary_sector'] = df['category_list'].apply(sp)\n"
   ]
  },
  {
   "cell_type": "code",
   "execution_count": 281,
   "metadata": {},
   "outputs": [
    {
     "data": {
      "text/plain": [
       "0                         media\n",
       "2         application platforms\n",
       "3                          apps\n",
       "4                   curated web\n",
       "6                         games\n",
       "7                 biotechnology\n",
       "8                 biotechnology\n",
       "9                     analytics\n",
       "10                    analytics\n",
       "11                    analytics\n",
       "12                    analytics\n",
       "13                       mobile\n",
       "15                       mobile\n",
       "16                   e-commerce\n",
       "20          health and wellness\n",
       "21           internet marketing\n",
       "22                         apps\n",
       "23                entertainment\n",
       "24                   e-commerce\n",
       "25                   e-commerce\n",
       "26                   e-commerce\n",
       "27                   e-commerce\n",
       "28                    education\n",
       "29                    education\n",
       "30                       search\n",
       "31                          art\n",
       "32                       mobile\n",
       "34                  curated web\n",
       "35                  curated web\n",
       "36                  curated web\n",
       "                  ...          \n",
       "114910                 software\n",
       "114911                 software\n",
       "114912                 software\n",
       "114913            biotechnology\n",
       "114914            biotechnology\n",
       "114915            biotechnology\n",
       "114916            biotechnology\n",
       "114917          cloud computing\n",
       "114918          cloud computing\n",
       "114919    public transportation\n",
       "114921            biotechnology\n",
       "114922            biotechnology\n",
       "114923            biotechnology\n",
       "114924            biotechnology\n",
       "114925               e-commerce\n",
       "114926               e-commerce\n",
       "114927               e-commerce\n",
       "114928               e-commerce\n",
       "114929            biotechnology\n",
       "114930            biotechnology\n",
       "114931                analytics\n",
       "114932                analytics\n",
       "114933                analytics\n",
       "114934      enterprise software\n",
       "114935              advertising\n",
       "114936              advertising\n",
       "114937              advertising\n",
       "114938              advertising\n",
       "114940     consumer electronics\n",
       "114941           consumer goods\n",
       "Name: primary_sector, Length: 94958, dtype: object"
      ]
     },
     "execution_count": 281,
     "metadata": {},
     "output_type": "execute_result"
    }
   ],
   "source": [
    "df=df.drop('category_list',axis=1)\n",
    "df['primary_sector'] = df['primary_sector'].str.lower(); \n",
    "df['primary_sector']\n"
   ]
  },
  {
   "cell_type": "code",
   "execution_count": 282,
   "metadata": {},
   "outputs": [
    {
     "data": {
      "text/plain": [
       "57517"
      ]
     },
     "execution_count": 282,
     "metadata": {},
     "output_type": "execute_result"
    }
   ],
   "source": [
    "top9 = df[df['country_code'].isin(['USA', 'CHN', 'GBR', 'IND', 'CAN', 'FRA', 'ISR', 'DEU', 'JPN' ])&\n",
    "          df['funding_round_type'].isin(['private_equity','angel','venture','seed'])]\n",
    "\n",
    "top9.groupby('country_code')['raised_amount_usd'].sum().sort_values(ascending=False)\n",
    "top9.groupby('country_code')['raised_amount_usd'].count().sort_values(ascending=False)\n",
    "\n",
    "top3_english = top9[top9['country_code'].isin(['USA', 'GBR', 'IND'])]\n",
    "top3_english.head()\n",
    "len(top3_english)\n",
    "#57517\n",
    "#top3_english.primary_sector.unique()"
   ]
  },
  {
   "cell_type": "code",
   "execution_count": 283,
   "metadata": {},
   "outputs": [
    {
     "data": {
      "text/html": [
       "<div>\n",
       "<style scoped>\n",
       "    .dataframe tbody tr th:only-of-type {\n",
       "        vertical-align: middle;\n",
       "    }\n",
       "\n",
       "    .dataframe tbody tr th {\n",
       "        vertical-align: top;\n",
       "    }\n",
       "\n",
       "    .dataframe thead th {\n",
       "        text-align: right;\n",
       "    }\n",
       "</style>\n",
       "<table border=\"1\" class=\"dataframe\">\n",
       "  <thead>\n",
       "    <tr style=\"text-align: right;\">\n",
       "      <th></th>\n",
       "      <th>category_list</th>\n",
       "      <th>variable</th>\n",
       "      <th>value</th>\n",
       "    </tr>\n",
       "  </thead>\n",
       "  <tbody>\n",
       "    <tr>\n",
       "      <th>0</th>\n",
       "      <td>NaN</td>\n",
       "      <td>Automotive &amp; Sports</td>\n",
       "      <td>0</td>\n",
       "    </tr>\n",
       "    <tr>\n",
       "      <th>1</th>\n",
       "      <td>3D</td>\n",
       "      <td>Automotive &amp; Sports</td>\n",
       "      <td>0</td>\n",
       "    </tr>\n",
       "    <tr>\n",
       "      <th>2</th>\n",
       "      <td>3D Printing</td>\n",
       "      <td>Automotive &amp; Sports</td>\n",
       "      <td>0</td>\n",
       "    </tr>\n",
       "    <tr>\n",
       "      <th>3</th>\n",
       "      <td>3D Technology</td>\n",
       "      <td>Automotive &amp; Sports</td>\n",
       "      <td>0</td>\n",
       "    </tr>\n",
       "    <tr>\n",
       "      <th>4</th>\n",
       "      <td>Accounting</td>\n",
       "      <td>Automotive &amp; Sports</td>\n",
       "      <td>0</td>\n",
       "    </tr>\n",
       "  </tbody>\n",
       "</table>\n",
       "</div>"
      ],
      "text/plain": [
       "   category_list             variable  value\n",
       "0            NaN  Automotive & Sports      0\n",
       "1             3D  Automotive & Sports      0\n",
       "2    3D Printing  Automotive & Sports      0\n",
       "3  3D Technology  Automotive & Sports      0\n",
       "4     Accounting  Automotive & Sports      0"
      ]
     },
     "execution_count": 283,
     "metadata": {},
     "output_type": "execute_result"
    }
   ],
   "source": [
    "df3 = pd.melt(df3,id_vars=['category_list'],value_vars =['Automotive & Sports','Cleantech / Semiconductors','Entertainment','Health','Manufacturing','News, Search and Messaging','Others','Social, Finance, Analytics, Advertising'])\n",
    "df3.head()"
   ]
  },
  {
   "cell_type": "code",
   "execution_count": 284,
   "metadata": {},
   "outputs": [
    {
     "data": {
      "text/html": [
       "<div>\n",
       "<style scoped>\n",
       "    .dataframe tbody tr th:only-of-type {\n",
       "        vertical-align: middle;\n",
       "    }\n",
       "\n",
       "    .dataframe tbody tr th {\n",
       "        vertical-align: top;\n",
       "    }\n",
       "\n",
       "    .dataframe thead th {\n",
       "        text-align: right;\n",
       "    }\n",
       "</style>\n",
       "<table border=\"1\" class=\"dataframe\">\n",
       "  <thead>\n",
       "    <tr style=\"text-align: right;\">\n",
       "      <th></th>\n",
       "      <th>category_list</th>\n",
       "      <th>variable</th>\n",
       "      <th>value</th>\n",
       "    </tr>\n",
       "  </thead>\n",
       "  <tbody>\n",
       "    <tr>\n",
       "      <th>8</th>\n",
       "      <td>Adventure Travel</td>\n",
       "      <td>Automotive &amp; Sports</td>\n",
       "      <td>1</td>\n",
       "    </tr>\n",
       "    <tr>\n",
       "      <th>14</th>\n",
       "      <td>Aerospace</td>\n",
       "      <td>Automotive &amp; Sports</td>\n",
       "      <td>1</td>\n",
       "    </tr>\n",
       "    <tr>\n",
       "      <th>45</th>\n",
       "      <td>Auto</td>\n",
       "      <td>Automotive &amp; Sports</td>\n",
       "      <td>1</td>\n",
       "    </tr>\n",
       "    <tr>\n",
       "      <th>46</th>\n",
       "      <td>Automated Kiosk</td>\n",
       "      <td>Automotive &amp; Sports</td>\n",
       "      <td>1</td>\n",
       "    </tr>\n",
       "    <tr>\n",
       "      <th>47</th>\n",
       "      <td>Automotive</td>\n",
       "      <td>Automotive &amp; Sports</td>\n",
       "      <td>1</td>\n",
       "    </tr>\n",
       "    <tr>\n",
       "      <th>57</th>\n",
       "      <td>Bicycles</td>\n",
       "      <td>Automotive &amp; Sports</td>\n",
       "      <td>1</td>\n",
       "    </tr>\n",
       "    <tr>\n",
       "      <th>69</th>\n",
       "      <td>Boating Industry</td>\n",
       "      <td>Automotive &amp; Sports</td>\n",
       "      <td>1</td>\n",
       "    </tr>\n",
       "    <tr>\n",
       "      <th>87</th>\n",
       "      <td>CAD</td>\n",
       "      <td>Automotive &amp; Sports</td>\n",
       "      <td>1</td>\n",
       "    </tr>\n",
       "    <tr>\n",
       "      <th>93</th>\n",
       "      <td>Cars</td>\n",
       "      <td>Automotive &amp; Sports</td>\n",
       "      <td>1</td>\n",
       "    </tr>\n",
       "    <tr>\n",
       "      <th>188</th>\n",
       "      <td>Design</td>\n",
       "      <td>Automotive &amp; Sports</td>\n",
       "      <td>1</td>\n",
       "    </tr>\n",
       "  </tbody>\n",
       "</table>\n",
       "</div>"
      ],
      "text/plain": [
       "        category_list             variable  value\n",
       "8    Adventure Travel  Automotive & Sports      1\n",
       "14          Aerospace  Automotive & Sports      1\n",
       "45               Auto  Automotive & Sports      1\n",
       "46    Automated Kiosk  Automotive & Sports      1\n",
       "47         Automotive  Automotive & Sports      1\n",
       "57           Bicycles  Automotive & Sports      1\n",
       "69   Boating Industry  Automotive & Sports      1\n",
       "87                CAD  Automotive & Sports      1\n",
       "93               Cars  Automotive & Sports      1\n",
       "188            Design  Automotive & Sports      1"
      ]
     },
     "execution_count": 284,
     "metadata": {},
     "output_type": "execute_result"
    }
   ],
   "source": [
    "df3 = df3[df3.value != 0]\n",
    "#len(df3)\n",
    "\n",
    "df3.head(10)"
   ]
  },
  {
   "cell_type": "code",
   "execution_count": 285,
   "metadata": {},
   "outputs": [],
   "source": [
    "df3 = df3.drop('value', axis=1)\n"
   ]
  },
  {
   "cell_type": "code",
   "execution_count": 286,
   "metadata": {},
   "outputs": [
    {
     "name": "stdout",
     "output_type": "stream",
     "text": [
      "     primary_sector    main_sector\n",
      "1810          media  entertainment\n"
     ]
    }
   ],
   "source": [
    "df3.rename(columns={'variable':'main_sector','category_list':'primary_sector'}, inplace=True)\n",
    "df3.head()\n",
    "import re\n",
    "df3['primary_sector'] = df3.primary_sector.apply(lambda x: re.sub('[0]', 'na', str(x)))\n",
    "df3['primary_sector']=df3['primary_sector'].str.lower()\n",
    "df3['main_sector']=df3['main_sector'].str.lower()\n",
    "\n",
    "#df3.primary_sector.sort_values(ascending=True)\n",
    "print(df3[df3['primary_sector']=='media'])\n",
    "\n"
   ]
  },
  {
   "cell_type": "code",
   "execution_count": 287,
   "metadata": {},
   "outputs": [
    {
     "name": "stderr",
     "output_type": "stream",
     "text": [
      "C:\\Users\\kinch\\Anaconda3\\lib\\site-packages\\ipykernel_launcher.py:2: UserWarning: Boolean Series key will be reindexed to match DataFrame index.\n",
      "  \n"
     ]
    },
    {
     "data": {
      "text/plain": [
       "country_code\n",
       "USA    36139\n",
       "GBR     2055\n",
       "IND      824\n",
       "Name: raised_amount_usd, dtype: int64"
      ]
     },
     "execution_count": 287,
     "metadata": {},
     "output_type": "execute_result"
    }
   ],
   "source": [
    "top3_english = top9[top9['country_code'].isin(['USA','GBR', 'IND'])&\n",
    "          df['funding_round_type'].isin(['venture'])]\n",
    "\n",
    "#top3_english[top3_english['primary_sector']=='media']\n",
    "top3_english.groupby('country_code')['raised_amount_usd'].sum().sort_values(ascending=False)\n",
    "top3_english.groupby('country_code')['raised_amount_usd'].count().sort_values(ascending=False)\n",
    "\n",
    "#top3_english['funding_round_type'].unique()"
   ]
  },
  {
   "cell_type": "code",
   "execution_count": 288,
   "metadata": {},
   "outputs": [
    {
     "name": "stderr",
     "output_type": "stream",
     "text": [
      "C:\\Users\\kinch\\Anaconda3\\lib\\site-packages\\pandas\\core\\frame.py:4025: SettingWithCopyWarning: \n",
      "A value is trying to be set on a copy of a slice from a DataFrame\n",
      "\n",
      "See the caveats in the documentation: http://pandas.pydata.org/pandas-docs/stable/indexing.html#indexing-view-versus-copy\n",
      "  return super(DataFrame, self).rename(**kwargs)\n"
     ]
    }
   ],
   "source": [
    "#top3_english['permalink']\n",
    "#len(top3_english)\n",
    "top3_english.rename(columns={'category_list':'primary_sector'},inplace=True)"
   ]
  },
  {
   "cell_type": "code",
   "execution_count": 289,
   "metadata": {},
   "outputs": [
    {
     "data": {
      "text/html": [
       "<div>\n",
       "<style scoped>\n",
       "    .dataframe tbody tr th:only-of-type {\n",
       "        vertical-align: middle;\n",
       "    }\n",
       "\n",
       "    .dataframe tbody tr th {\n",
       "        vertical-align: top;\n",
       "    }\n",
       "\n",
       "    .dataframe thead th {\n",
       "        text-align: right;\n",
       "    }\n",
       "</style>\n",
       "<table border=\"1\" class=\"dataframe\">\n",
       "  <thead>\n",
       "    <tr style=\"text-align: right;\">\n",
       "      <th></th>\n",
       "      <th>permalink</th>\n",
       "      <th>name</th>\n",
       "      <th>status</th>\n",
       "      <th>country_code</th>\n",
       "      <th>funding_round_permalink</th>\n",
       "      <th>funding_round_type</th>\n",
       "      <th>funded_at</th>\n",
       "      <th>raised_amount_usd</th>\n",
       "      <th>primary_sector</th>\n",
       "      <th>main_sector</th>\n",
       "      <th>_merge</th>\n",
       "    </tr>\n",
       "  </thead>\n",
       "  <tbody>\n",
       "    <tr>\n",
       "      <th>0</th>\n",
       "      <td>/organization/-fame</td>\n",
       "      <td>#fame</td>\n",
       "      <td>operating</td>\n",
       "      <td>IND</td>\n",
       "      <td>/funding-round/9a01d05418af9f794eebff7ace91f638</td>\n",
       "      <td>venture</td>\n",
       "      <td>05-01-2015</td>\n",
       "      <td>10000000.0</td>\n",
       "      <td>media</td>\n",
       "      <td>entertainment</td>\n",
       "      <td>both</td>\n",
       "    </tr>\n",
       "    <tr>\n",
       "      <th>1</th>\n",
       "      <td>/organization/0xdata</td>\n",
       "      <td>H2O.ai</td>\n",
       "      <td>operating</td>\n",
       "      <td>USA</td>\n",
       "      <td>/funding-round/3bb2ee4a2d89251a10aaa735b1180e44</td>\n",
       "      <td>venture</td>\n",
       "      <td>09-11-2015</td>\n",
       "      <td>20000000.0</td>\n",
       "      <td>analytics</td>\n",
       "      <td>social, finance, analytics, advertising</td>\n",
       "      <td>both</td>\n",
       "    </tr>\n",
       "    <tr>\n",
       "      <th>2</th>\n",
       "      <td>/organization/0xdata</td>\n",
       "      <td>H2O.ai</td>\n",
       "      <td>operating</td>\n",
       "      <td>USA</td>\n",
       "      <td>/funding-round/ae2a174c06517c2394aed45006322a7e</td>\n",
       "      <td>venture</td>\n",
       "      <td>03-01-2013</td>\n",
       "      <td>1700000.0</td>\n",
       "      <td>analytics</td>\n",
       "      <td>social, finance, analytics, advertising</td>\n",
       "      <td>both</td>\n",
       "    </tr>\n",
       "    <tr>\n",
       "      <th>3</th>\n",
       "      <td>/organization/0xdata</td>\n",
       "      <td>H2O.ai</td>\n",
       "      <td>operating</td>\n",
       "      <td>USA</td>\n",
       "      <td>/funding-round/e1cfcbe1bdf4c70277c5f29a3482f24e</td>\n",
       "      <td>venture</td>\n",
       "      <td>19-07-2014</td>\n",
       "      <td>8900000.0</td>\n",
       "      <td>analytics</td>\n",
       "      <td>social, finance, analytics, advertising</td>\n",
       "      <td>both</td>\n",
       "    </tr>\n",
       "    <tr>\n",
       "      <th>4</th>\n",
       "      <td>/organization/1-mainstream</td>\n",
       "      <td>1 Mainstream</td>\n",
       "      <td>acquired</td>\n",
       "      <td>USA</td>\n",
       "      <td>/funding-round/b952cbaf401f310927430c97b68162ea</td>\n",
       "      <td>venture</td>\n",
       "      <td>17-03-2015</td>\n",
       "      <td>5000000.0</td>\n",
       "      <td>apps</td>\n",
       "      <td>news, search and messaging</td>\n",
       "      <td>both</td>\n",
       "    </tr>\n",
       "  </tbody>\n",
       "</table>\n",
       "</div>"
      ],
      "text/plain": [
       "                    permalink          name     status country_code  \\\n",
       "0         /organization/-fame         #fame  operating          IND   \n",
       "1        /organization/0xdata        H2O.ai  operating          USA   \n",
       "2        /organization/0xdata        H2O.ai  operating          USA   \n",
       "3        /organization/0xdata        H2O.ai  operating          USA   \n",
       "4  /organization/1-mainstream  1 Mainstream   acquired          USA   \n",
       "\n",
       "                           funding_round_permalink funding_round_type  \\\n",
       "0  /funding-round/9a01d05418af9f794eebff7ace91f638            venture   \n",
       "1  /funding-round/3bb2ee4a2d89251a10aaa735b1180e44            venture   \n",
       "2  /funding-round/ae2a174c06517c2394aed45006322a7e            venture   \n",
       "3  /funding-round/e1cfcbe1bdf4c70277c5f29a3482f24e            venture   \n",
       "4  /funding-round/b952cbaf401f310927430c97b68162ea            venture   \n",
       "\n",
       "    funded_at  raised_amount_usd primary_sector  \\\n",
       "0  05-01-2015         10000000.0          media   \n",
       "1  09-11-2015         20000000.0      analytics   \n",
       "2  03-01-2013          1700000.0      analytics   \n",
       "3  19-07-2014          8900000.0      analytics   \n",
       "4  17-03-2015          5000000.0           apps   \n",
       "\n",
       "                               main_sector _merge  \n",
       "0                            entertainment   both  \n",
       "1  social, finance, analytics, advertising   both  \n",
       "2  social, finance, analytics, advertising   both  \n",
       "3  social, finance, analytics, advertising   both  \n",
       "4               news, search and messaging   both  "
      ]
     },
     "execution_count": 289,
     "metadata": {},
     "output_type": "execute_result"
    }
   ],
   "source": [
    "top3_english.columns = top3_english.columns.str.strip()\n",
    "df3.columns = df3.columns.str.strip()\n",
    "\n",
    "top3_english = pd.merge(top3_english, df3, how='left', on='primary_sector', indicator=True)\n",
    "top3_english.head()\n",
    "#top3_english.primary_sector.unique()\n",
    "#len(top3_english)\n",
    "#top3_english['primary_sector'].unique()"
   ]
  },
  {
   "cell_type": "code",
   "execution_count": 290,
   "metadata": {},
   "outputs": [],
   "source": [
    "#both = top3_english[top3_english['_merge'] == 'both']\n",
    "#len(both)\n",
    "#left_only.primary_sector.sort_values(ascending=True).unique()\n",
    "\n"
   ]
  },
  {
   "cell_type": "code",
   "execution_count": null,
   "metadata": {},
   "outputs": [],
   "source": []
  },
  {
   "cell_type": "code",
   "execution_count": null,
   "metadata": {},
   "outputs": [],
   "source": []
  },
  {
   "cell_type": "code",
   "execution_count": 291,
   "metadata": {},
   "outputs": [
    {
     "data": {
      "text/html": [
       "<div>\n",
       "<style scoped>\n",
       "    .dataframe tbody tr th:only-of-type {\n",
       "        vertical-align: middle;\n",
       "    }\n",
       "\n",
       "    .dataframe tbody tr th {\n",
       "        vertical-align: top;\n",
       "    }\n",
       "\n",
       "    .dataframe thead th {\n",
       "        text-align: right;\n",
       "    }\n",
       "</style>\n",
       "<table border=\"1\" class=\"dataframe\">\n",
       "  <thead>\n",
       "    <tr style=\"text-align: right;\">\n",
       "      <th></th>\n",
       "      <th>permalink</th>\n",
       "      <th>name</th>\n",
       "      <th>status</th>\n",
       "      <th>country_code</th>\n",
       "      <th>funding_round_permalink</th>\n",
       "      <th>funding_round_type</th>\n",
       "      <th>funded_at</th>\n",
       "      <th>raised_amount_usd</th>\n",
       "      <th>primary_sector</th>\n",
       "      <th>main_sector</th>\n",
       "      <th>_merge</th>\n",
       "    </tr>\n",
       "  </thead>\n",
       "  <tbody>\n",
       "    <tr>\n",
       "      <th>0</th>\n",
       "      <td>/organization/-fame</td>\n",
       "      <td>#fame</td>\n",
       "      <td>operating</td>\n",
       "      <td>IND</td>\n",
       "      <td>/funding-round/9a01d05418af9f794eebff7ace91f638</td>\n",
       "      <td>venture</td>\n",
       "      <td>05-01-2015</td>\n",
       "      <td>10000000.0</td>\n",
       "      <td>media</td>\n",
       "      <td>entertainment</td>\n",
       "      <td>both</td>\n",
       "    </tr>\n",
       "    <tr>\n",
       "      <th>55</th>\n",
       "      <td>/organization/21diamonds-india</td>\n",
       "      <td>21Diamonds</td>\n",
       "      <td>operating</td>\n",
       "      <td>IND</td>\n",
       "      <td>/funding-round/6de7ffef8091ba9f33821f4b861f434a</td>\n",
       "      <td>venture</td>\n",
       "      <td>15-11-2012</td>\n",
       "      <td>6369507.0</td>\n",
       "      <td>e-commerce</td>\n",
       "      <td>others</td>\n",
       "      <td>both</td>\n",
       "    </tr>\n",
       "    <tr>\n",
       "      <th>278</th>\n",
       "      <td>/organization/a-little-world</td>\n",
       "      <td>A LITTLE WORLD</td>\n",
       "      <td>operating</td>\n",
       "      <td>IND</td>\n",
       "      <td>/funding-round/18d98f82ed392b1609975b81f3e8b3fb</td>\n",
       "      <td>venture</td>\n",
       "      <td>09-09-2008</td>\n",
       "      <td>6410000.0</td>\n",
       "      <td>finance</td>\n",
       "      <td>social, finance, analytics, advertising</td>\n",
       "      <td>both</td>\n",
       "    </tr>\n",
       "    <tr>\n",
       "      <th>933</th>\n",
       "      <td>/organization/adlabs-imagica</td>\n",
       "      <td>Adlabs Imagica</td>\n",
       "      <td>operating</td>\n",
       "      <td>IND</td>\n",
       "      <td>/funding-round/508d3c83daaae9fda3ba6f9682c78f6c</td>\n",
       "      <td>venture</td>\n",
       "      <td>28-10-2014</td>\n",
       "      <td>8180000.0</td>\n",
       "      <td>entertainment</td>\n",
       "      <td>entertainment</td>\n",
       "      <td>both</td>\n",
       "    </tr>\n",
       "    <tr>\n",
       "      <th>1269</th>\n",
       "      <td>/organization/agile</td>\n",
       "      <td>Agile</td>\n",
       "      <td>operating</td>\n",
       "      <td>IND</td>\n",
       "      <td>/funding-round/cd3dd1c98ce9d0f632d8752163941674</td>\n",
       "      <td>venture</td>\n",
       "      <td>01-05-2011</td>\n",
       "      <td>5740000.0</td>\n",
       "      <td>finance</td>\n",
       "      <td>social, finance, analytics, advertising</td>\n",
       "      <td>both</td>\n",
       "    </tr>\n",
       "  </tbody>\n",
       "</table>\n",
       "</div>"
      ],
      "text/plain": [
       "                           permalink            name     status country_code  \\\n",
       "0                /organization/-fame           #fame  operating          IND   \n",
       "55    /organization/21diamonds-india      21Diamonds  operating          IND   \n",
       "278     /organization/a-little-world  A LITTLE WORLD  operating          IND   \n",
       "933     /organization/adlabs-imagica  Adlabs Imagica  operating          IND   \n",
       "1269             /organization/agile           Agile  operating          IND   \n",
       "\n",
       "                              funding_round_permalink funding_round_type  \\\n",
       "0     /funding-round/9a01d05418af9f794eebff7ace91f638            venture   \n",
       "55    /funding-round/6de7ffef8091ba9f33821f4b861f434a            venture   \n",
       "278   /funding-round/18d98f82ed392b1609975b81f3e8b3fb            venture   \n",
       "933   /funding-round/508d3c83daaae9fda3ba6f9682c78f6c            venture   \n",
       "1269  /funding-round/cd3dd1c98ce9d0f632d8752163941674            venture   \n",
       "\n",
       "       funded_at  raised_amount_usd primary_sector  \\\n",
       "0     05-01-2015         10000000.0          media   \n",
       "55    15-11-2012          6369507.0     e-commerce   \n",
       "278   09-09-2008          6410000.0        finance   \n",
       "933   28-10-2014          8180000.0  entertainment   \n",
       "1269  01-05-2011          5740000.0        finance   \n",
       "\n",
       "                                  main_sector _merge  \n",
       "0                               entertainment   both  \n",
       "55                                     others   both  \n",
       "278   social, finance, analytics, advertising   both  \n",
       "933                             entertainment   both  \n",
       "1269  social, finance, analytics, advertising   both  "
      ]
     },
     "execution_count": 291,
     "metadata": {},
     "output_type": "execute_result"
    }
   ],
   "source": [
    "top3_english = top3_english.drop(top3_english[(top3_english.raised_amount_usd < 5000000)].index)\n",
    "top3_english = top3_english.drop(top3_english[(top3_english.raised_amount_usd > 15000000)].index)\n",
    "D1 = top3_english[top3_english['country_code'] == 'USA']\n",
    "D2 = top3_english[top3_english['country_code'] == 'GBR']\n",
    "D3 = top3_english[top3_english['country_code'] == 'IND']\n",
    "D1.columns = D1.columns.str.replace(' ', '')\n",
    "D2.columns = D2.columns.str.replace(' ', '')\n",
    "D3.columns = D3.columns.str.replace(' ', '')\n",
    "\n",
    "D3.head()\n"
   ]
  },
  {
   "cell_type": "code",
   "execution_count": 292,
   "metadata": {},
   "outputs": [
    {
     "data": {
      "text/html": [
       "<div>\n",
       "<style scoped>\n",
       "    .dataframe tbody tr th:only-of-type {\n",
       "        vertical-align: middle;\n",
       "    }\n",
       "\n",
       "    .dataframe tbody tr th {\n",
       "        vertical-align: top;\n",
       "    }\n",
       "\n",
       "    .dataframe thead th {\n",
       "        text-align: right;\n",
       "    }\n",
       "</style>\n",
       "<table border=\"1\" class=\"dataframe\">\n",
       "  <thead>\n",
       "    <tr style=\"text-align: right;\">\n",
       "      <th></th>\n",
       "      <th>count</th>\n",
       "      <th>sum</th>\n",
       "    </tr>\n",
       "    <tr>\n",
       "      <th>main_sector</th>\n",
       "      <th></th>\n",
       "      <th></th>\n",
       "    </tr>\n",
       "  </thead>\n",
       "  <tbody>\n",
       "    <tr>\n",
       "      <th>automotive &amp; sports</th>\n",
       "      <td>167</td>\n",
       "      <td>1.454104e+09</td>\n",
       "    </tr>\n",
       "    <tr>\n",
       "      <th>cleantech / semiconductors</th>\n",
       "      <td>2350</td>\n",
       "      <td>2.163343e+10</td>\n",
       "    </tr>\n",
       "    <tr>\n",
       "      <th>entertainment</th>\n",
       "      <td>591</td>\n",
       "      <td>5.099198e+09</td>\n",
       "    </tr>\n",
       "    <tr>\n",
       "      <th>health</th>\n",
       "      <td>909</td>\n",
       "      <td>8.211859e+09</td>\n",
       "    </tr>\n",
       "    <tr>\n",
       "      <th>manufacturing</th>\n",
       "      <td>799</td>\n",
       "      <td>7.258553e+09</td>\n",
       "    </tr>\n",
       "    <tr>\n",
       "      <th>news, search and messaging</th>\n",
       "      <td>1583</td>\n",
       "      <td>1.397157e+10</td>\n",
       "    </tr>\n",
       "    <tr>\n",
       "      <th>others</th>\n",
       "      <td>2950</td>\n",
       "      <td>2.632101e+10</td>\n",
       "    </tr>\n",
       "    <tr>\n",
       "      <th>social, finance, analytics, advertising</th>\n",
       "      <td>2714</td>\n",
       "      <td>2.380738e+10</td>\n",
       "    </tr>\n",
       "  </tbody>\n",
       "</table>\n",
       "</div>"
      ],
      "text/plain": [
       "                                         count           sum\n",
       "main_sector                                                 \n",
       "automotive & sports                        167  1.454104e+09\n",
       "cleantech / semiconductors                2350  2.163343e+10\n",
       "entertainment                              591  5.099198e+09\n",
       "health                                     909  8.211859e+09\n",
       "manufacturing                              799  7.258553e+09\n",
       "news, search and messaging                1583  1.397157e+10\n",
       "others                                    2950  2.632101e+10\n",
       "social, finance, analytics, advertising   2714  2.380738e+10"
      ]
     },
     "execution_count": 292,
     "metadata": {},
     "output_type": "execute_result"
    }
   ],
   "source": [
    "D1.pivot_table(values = 'raised_amount_usd',index = ['main_sector'], aggfunc = {'sum','count'})\n",
    "#D1.head()\n",
    "#D1['name']=D1.name.str.lower()\n",
    "#D1['name']\n",
    "\n"
   ]
  },
  {
   "cell_type": "code",
   "execution_count": 293,
   "metadata": {},
   "outputs": [
    {
     "data": {
      "text/html": [
       "<div>\n",
       "<style scoped>\n",
       "    .dataframe tbody tr th:only-of-type {\n",
       "        vertical-align: middle;\n",
       "    }\n",
       "\n",
       "    .dataframe tbody tr th {\n",
       "        vertical-align: top;\n",
       "    }\n",
       "\n",
       "    .dataframe thead th {\n",
       "        text-align: right;\n",
       "    }\n",
       "</style>\n",
       "<table border=\"1\" class=\"dataframe\">\n",
       "  <thead>\n",
       "    <tr style=\"text-align: right;\">\n",
       "      <th></th>\n",
       "      <th>count</th>\n",
       "      <th>sum</th>\n",
       "    </tr>\n",
       "    <tr>\n",
       "      <th>main_sector</th>\n",
       "      <th></th>\n",
       "      <th></th>\n",
       "    </tr>\n",
       "  </thead>\n",
       "  <tbody>\n",
       "    <tr>\n",
       "      <th>automotive &amp; sports</th>\n",
       "      <td>16</td>\n",
       "      <td>1.670516e+08</td>\n",
       "    </tr>\n",
       "    <tr>\n",
       "      <th>cleantech / semiconductors</th>\n",
       "      <td>130</td>\n",
       "      <td>1.163990e+09</td>\n",
       "    </tr>\n",
       "    <tr>\n",
       "      <th>entertainment</th>\n",
       "      <td>56</td>\n",
       "      <td>4.827847e+08</td>\n",
       "    </tr>\n",
       "    <tr>\n",
       "      <th>health</th>\n",
       "      <td>24</td>\n",
       "      <td>2.145375e+08</td>\n",
       "    </tr>\n",
       "    <tr>\n",
       "      <th>manufacturing</th>\n",
       "      <td>42</td>\n",
       "      <td>3.619403e+08</td>\n",
       "    </tr>\n",
       "    <tr>\n",
       "      <th>news, search and messaging</th>\n",
       "      <td>73</td>\n",
       "      <td>6.157462e+08</td>\n",
       "    </tr>\n",
       "    <tr>\n",
       "      <th>others</th>\n",
       "      <td>147</td>\n",
       "      <td>1.283624e+09</td>\n",
       "    </tr>\n",
       "    <tr>\n",
       "      <th>social, finance, analytics, advertising</th>\n",
       "      <td>133</td>\n",
       "      <td>1.089404e+09</td>\n",
       "    </tr>\n",
       "  </tbody>\n",
       "</table>\n",
       "</div>"
      ],
      "text/plain": [
       "                                         count           sum\n",
       "main_sector                                                 \n",
       "automotive & sports                         16  1.670516e+08\n",
       "cleantech / semiconductors                 130  1.163990e+09\n",
       "entertainment                               56  4.827847e+08\n",
       "health                                      24  2.145375e+08\n",
       "manufacturing                               42  3.619403e+08\n",
       "news, search and messaging                  73  6.157462e+08\n",
       "others                                     147  1.283624e+09\n",
       "social, finance, analytics, advertising    133  1.089404e+09"
      ]
     },
     "execution_count": 293,
     "metadata": {},
     "output_type": "execute_result"
    }
   ],
   "source": [
    "D2.pivot_table(values = 'raised_amount_usd',index = ['main_sector'], aggfunc = {'sum','count'})\n"
   ]
  },
  {
   "cell_type": "code",
   "execution_count": 294,
   "metadata": {},
   "outputs": [
    {
     "data": {
      "text/html": [
       "<div>\n",
       "<style scoped>\n",
       "    .dataframe tbody tr th:only-of-type {\n",
       "        vertical-align: middle;\n",
       "    }\n",
       "\n",
       "    .dataframe tbody tr th {\n",
       "        vertical-align: top;\n",
       "    }\n",
       "\n",
       "    .dataframe thead th {\n",
       "        text-align: right;\n",
       "    }\n",
       "</style>\n",
       "<table border=\"1\" class=\"dataframe\">\n",
       "  <thead>\n",
       "    <tr style=\"text-align: right;\">\n",
       "      <th></th>\n",
       "      <th>count</th>\n",
       "      <th>sum</th>\n",
       "    </tr>\n",
       "    <tr>\n",
       "      <th>main_sector</th>\n",
       "      <th></th>\n",
       "      <th></th>\n",
       "    </tr>\n",
       "  </thead>\n",
       "  <tbody>\n",
       "    <tr>\n",
       "      <th>automotive &amp; sports</th>\n",
       "      <td>13</td>\n",
       "      <td>1.369000e+08</td>\n",
       "    </tr>\n",
       "    <tr>\n",
       "      <th>cleantech / semiconductors</th>\n",
       "      <td>20</td>\n",
       "      <td>1.653800e+08</td>\n",
       "    </tr>\n",
       "    <tr>\n",
       "      <th>entertainment</th>\n",
       "      <td>33</td>\n",
       "      <td>2.808300e+08</td>\n",
       "    </tr>\n",
       "    <tr>\n",
       "      <th>health</th>\n",
       "      <td>19</td>\n",
       "      <td>1.677400e+08</td>\n",
       "    </tr>\n",
       "    <tr>\n",
       "      <th>manufacturing</th>\n",
       "      <td>21</td>\n",
       "      <td>2.009000e+08</td>\n",
       "    </tr>\n",
       "    <tr>\n",
       "      <th>news, search and messaging</th>\n",
       "      <td>52</td>\n",
       "      <td>4.338345e+08</td>\n",
       "    </tr>\n",
       "    <tr>\n",
       "      <th>others</th>\n",
       "      <td>110</td>\n",
       "      <td>1.013410e+09</td>\n",
       "    </tr>\n",
       "    <tr>\n",
       "      <th>social, finance, analytics, advertising</th>\n",
       "      <td>60</td>\n",
       "      <td>5.505496e+08</td>\n",
       "    </tr>\n",
       "  </tbody>\n",
       "</table>\n",
       "</div>"
      ],
      "text/plain": [
       "                                         count           sum\n",
       "main_sector                                                 \n",
       "automotive & sports                         13  1.369000e+08\n",
       "cleantech / semiconductors                  20  1.653800e+08\n",
       "entertainment                               33  2.808300e+08\n",
       "health                                      19  1.677400e+08\n",
       "manufacturing                               21  2.009000e+08\n",
       "news, search and messaging                  52  4.338345e+08\n",
       "others                                     110  1.013410e+09\n",
       "social, finance, analytics, advertising     60  5.505496e+08"
      ]
     },
     "execution_count": 294,
     "metadata": {},
     "output_type": "execute_result"
    }
   ],
   "source": [
    "D3.pivot_table(values = 'raised_amount_usd',index = ['main_sector'], aggfunc = {'sum','count'})\n"
   ]
  },
  {
   "cell_type": "code",
   "execution_count": 295,
   "metadata": {},
   "outputs": [
    {
     "data": {
      "text/plain": [
       "name\n",
       "Virtustream            64300000.0\n",
       "Capella Photonics      54968051.0\n",
       "AirTight Networks      54201907.0\n",
       "deCarta                52100000.0\n",
       "Black Duck Software    51000000.0\n",
       "Name: raised_amount_usd, dtype: float64"
      ]
     },
     "execution_count": 295,
     "metadata": {},
     "output_type": "execute_result"
    }
   ],
   "source": [
    "D1[D1['main_sector'] == \"others\" ].groupby('name')['raised_amount_usd'].sum().sort_values(ascending=False).head(5)\n"
   ]
  },
  {
   "cell_type": "code",
   "execution_count": 296,
   "metadata": {},
   "outputs": [
    {
     "data": {
      "text/plain": [
       "name\n",
       "Electric Cloud             37000000.0\n",
       "SenSage                    36250000.0\n",
       "Enigmatec                  32500000.0\n",
       "SilverRail Technologies    29000000.0\n",
       "OpenCloud                  27972766.0\n",
       "Name: raised_amount_usd, dtype: float64"
      ]
     },
     "execution_count": 296,
     "metadata": {},
     "output_type": "execute_result"
    }
   ],
   "source": [
    "D2[D2['main_sector'] == \"others\" ].groupby('name')['raised_amount_usd'].sum().sort_values(ascending=False).head(5)\n"
   ]
  },
  {
   "cell_type": "code",
   "execution_count": 297,
   "metadata": {},
   "outputs": [
    {
     "data": {
      "text/plain": [
       "name\n",
       "FirstCry.com         39000000.0\n",
       "Myntra               38000000.0\n",
       "CommonFloor          32900000.0\n",
       "Pepperfry.com        28000000.0\n",
       "ItzCash Card Ltd.    25000000.0\n",
       "Name: raised_amount_usd, dtype: float64"
      ]
     },
     "execution_count": 297,
     "metadata": {},
     "output_type": "execute_result"
    }
   ],
   "source": [
    "D3[D3['main_sector'] == \"others\" ].groupby('name')['raised_amount_usd'].sum().sort_values(ascending=False).head(5)\n"
   ]
  },
  {
   "cell_type": "code",
   "execution_count": 298,
   "metadata": {},
   "outputs": [
    {
     "data": {
      "text/plain": [
       "name\n",
       "SST Inc. (Formerly ShotSpotter)    67933006.0\n",
       "Demandbase                         63000000.0\n",
       "Intacct                            61800000.0\n",
       "NetBase Solutions                  60600000.0\n",
       "Lotame                             59700000.0\n",
       "Name: raised_amount_usd, dtype: float64"
      ]
     },
     "execution_count": 298,
     "metadata": {},
     "output_type": "execute_result"
    }
   ],
   "source": [
    "D1[D1['main_sector'] == \"social, finance, analytics, advertising\" ].groupby('name')['raised_amount_usd'].sum().sort_values(ascending=False).head(5)\n",
    "\n"
   ]
  },
  {
   "cell_type": "code",
   "execution_count": 299,
   "metadata": {},
   "outputs": [
    {
     "data": {
      "text/plain": [
       "name\n",
       "Celltick Technologies    37500000.0\n",
       "myThings                 34000000.0\n",
       "Zopa                     32900000.0\n",
       "VisualDNA                28550000.0\n",
       "MarketInvoice            25553007.0\n",
       "Name: raised_amount_usd, dtype: float64"
      ]
     },
     "execution_count": 299,
     "metadata": {},
     "output_type": "execute_result"
    }
   ],
   "source": [
    "D2[D2['main_sector'] == \"social, finance, analytics, advertising\" ].groupby('name')['raised_amount_usd'].sum().sort_values(ascending=False).head(5)\n",
    "\n"
   ]
  },
  {
   "cell_type": "code",
   "execution_count": 300,
   "metadata": {},
   "outputs": [
    {
     "data": {
      "text/plain": [
       "name\n",
       "Manthan Systems               50700000.0\n",
       "Komli Media                   28000000.0\n",
       "ShopClues.com                 25000000.0\n",
       "inTarvo                       21900000.0\n",
       "Grameen Financial Services    21556050.0\n",
       "Name: raised_amount_usd, dtype: float64"
      ]
     },
     "execution_count": 300,
     "metadata": {},
     "output_type": "execute_result"
    }
   ],
   "source": [
    "D3[D3['main_sector'] == \"social, finance, analytics, advertising\" ].groupby('name')['raised_amount_usd'].sum().sort_values(ascending=False).head(5)\n"
   ]
  },
  {
   "cell_type": "code",
   "execution_count": 301,
   "metadata": {},
   "outputs": [
    {
     "data": {
      "image/png": "[encoded data removed]",
      "text/plain": [
       "<Figure size 1080x720 with 1 Axes>"
      ]
     },
     "metadata": {
      "needs_background": "light"
     },
     "output_type": "display_data"
    }
   ],
   "source": [
    "#A plot showing the fraction of total investments (globally) in angel, venture, seed, and private equity, \n",
    "#and the average amount of investment in each funding type. This chart should make it clear that a certain funding type (FT) \n",
    "#is best suited for Spark Funds.\n",
    "\n",
    "import matplotlib.pyplot as plt\n",
    "import seaborn as sns\n",
    "plt.figure(figsize=(15, 10))\n",
    "sns.boxplot(x='funding_round_type', y='raised_amount_usd', data=df_4)\n",
    "plt.yscale('log')\n",
    "plt.show()"
   ]
  },
  {
   "cell_type": "code",
   "execution_count": null,
   "metadata": {},
   "outputs": [],
   "source": []
  },
  {
   "cell_type": "code",
   "execution_count": 302,
   "metadata": {},
   "outputs": [
    {
     "data": {
      "image/png": "[encoded data removed]",
      "text/plain": [
       "<Figure size 1440x720 with 1 Axes>"
      ]
     },
     "metadata": {
      "needs_background": "light"
     },
     "output_type": "display_data"
    }
   ],
   "source": [
    "D1=D1[D1['main_sector'].isin(['others','social, finance, analytics, advertising','cleantech / semiconductors'])]\n",
    "D2=D2[D2['main_sector'].isin(['others','social, finance, analytics, advertising','cleantech / semiconductors'])]\n",
    "D3=D3[D3['main_sector'].isin(['others','social, finance, analytics, advertising','news, search and messaging'])]\n",
    "\n",
    "\n",
    "#A plot showing the number of investments in the top 3 sectors of the top 3 countries on one chart\n",
    "#(for the chosen investment type FT). \n",
    "\n",
    "\n",
    "frames = [D1, D2, D3]\n",
    "result = pd.concat(frames)\n",
    "plt.figure(figsize=(20, 10))\n",
    "sns.barplot(y='country_code', x='raised_amount_usd', hue=\"main_sector\", data=result, estimator=np.sum)\n",
    "plt.xlabel(\"raised_amount_usd (in millions)\")\n",
    "\n",
    "plt.show()\n"
   ]
  },
  {
   "cell_type": "code",
   "execution_count": 303,
   "metadata": {},
   "outputs": [
    {
     "data": {
      "image/png": "[encoded data removed]",
      "text/plain": [
       "<Figure size 1440x720 with 1 Axes>"
      ]
     },
     "metadata": {
      "needs_background": "light"
     },
     "output_type": "display_data"
    }
   ],
   "source": [
    "#A plot showing the top 9 countries against the total amount of investments of funding type FT.\n",
    "#This should make the top 3 countries (Country 1, Country 2, and Country 3) very clear.\n",
    "\n",
    "frames = [top9]\n",
    "result = pd.concat(frames)\n",
    "plt.figure(figsize=(20, 10))\n",
    "sns.barplot(y='country_code', x='raised_amount_usd', data=result, estimator=np.sum)\n",
    "plt.show()"
   ]
  }
 ],
 "metadata": {
  "kernelspec": {
   "display_name": "Python 3",
   "language": "python",
   "name": "python3"
  },
  "language_info": {
   "codemirror_mode": {
    "name": "ipython",
    "version": 3
   },
   "file_extension": ".py",
   "mimetype": "text/x-python",
   "name": "python",
   "nbconvert_exporter": "python",
   "pygments_lexer": "ipython3",
   "version": "3.7.3"
  }
 },
 "nbformat": 4,
 "nbformat_minor": 2
}
