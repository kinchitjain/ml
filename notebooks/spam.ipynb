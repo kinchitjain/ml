{
 "cells": [
  {
   "cell_type": "code",
   "execution_count": 15,
   "metadata": {},
   "outputs": [
    {
     "name": "stdout",
     "output_type": "stream",
     "text": [
      "Go until jurong point, crazy.. Available only in bugis n great world la e buffet... Cine there got amore wat...\n",
      "Ok lar... Joking wif u oni...\n",
      "Free entry in 2 a wkly comp to win FA Cup final tkts 21st May 2005. Text FA to 87121 to receive entry question(std txt rate)T&C's apply 08452810075over18's\n",
      "U dun say so early hor... U c already then say...\n",
      "Nah I don't think he goes to usf, he lives around here though\n",
      "FreeMsg Hey there darling it's been 3 week's now and no word back! I'd like some fun you up for it still? Tb ok! XxX std chgs to send, £1.50 to rcv\n",
      "Even my brother is not like to speak with me. They treat me like aids patent.\n",
      "As per your request 'Melle Melle (Oru Minnaminunginte Nurungu Vettam)' has been set as your callertune for all Callers. Press *9 to copy your friends Callertune\n",
      "WINNER!! As a valued network customer you have been selected to receivea £900 prize reward! To claim call 09061701461. Claim code KL341. Valid 12 hours only.\n",
      "Had your mobile 11 months or more? U R entitled to Update to the latest colour mobiles with camera for Free! Call The Mobile Update Co FREE on 08002986030\n"
     ]
    },
    {
     "data": {
      "text/plain": [
       "99.01345291479821"
      ]
     },
     "execution_count": 15,
     "metadata": {},
     "output_type": "execute_result"
    }
   ],
   "source": [
    "import numpy as np\n",
    "import pandas as pd\n",
    "import re\n",
    "import spacy as sp\n",
    "import nltk as nl\n",
    "import matplotlib.pyplot as plt\n",
    "import seaborn as sns\n",
    "\n",
    "from sklearn.feature_extraction.text import CountVectorizer,TfidfVectorizer # for creating BOW\n",
    "from sklearn.naive_bayes import MultinomialNB\n",
    "from sklearn.model_selection import train_test_split\n",
    "from sklearn.metrics import confusion_matrix,accuracy_score\n",
    "from spacy.lang.en.stop_words import STOP_WORDS\n",
    "\n",
    "nlp = sp.load(\"en_core_web_sm\")\n",
    "\n",
    "df = pd.read_csv(\"SMSSpamCollection.txt\",sep=\"\\t\",names=[\"label\",\"message\"])\n",
    "df.head(5)\n",
    "df.shape\n",
    "df.label.value_counts()\n",
    "df.label.replace({\"ham\":0,\"spam\":1},inplace=True)\n",
    "df.head(5)\n",
    "\n",
    "for i in range(10):\n",
    "    print(df.message[i])\n",
    "    \n",
    "def cleanTheMessage(text):\n",
    "    msg = text.lower()\n",
    "    msg = re.sub(\"[^a-z]+\",\" \",msg)\n",
    "    msg = re.sub(\"[\\s+]\",\" \",msg)\n",
    "#     print(msg)\n",
    "    return(msg)\n",
    "\n",
    "\n",
    "df.message = df.message.apply(cleanTheMessage)\n",
    "\n",
    "X = df.message\n",
    "y = df.label\n",
    "\n",
    "X_train,X_test,y_train,y_test = train_test_split(X,y,test_size=.2,random_state=6)\n",
    "\n",
    "cv = CountVectorizer()\n",
    "\n",
    "dtm = cv.fit_transform(X_train)\n",
    "X_t_dtma=dtm.toarray()\n",
    "\n",
    "\n",
    "nb = MultinomialNB()\n",
    "nb.fit(X_t_dtma,y_train)\n",
    "\n",
    "x_test_dtm = cv.transform(X_test)\n",
    "x_test_dtma = x_test_dtm.toarray()\n",
    "\n",
    "y_pred = nb.predict(x_test_dtma)\n",
    "\n",
    "accuracy_score(y_test,y_pred)*100\n",
    "\n"
   ]
  },
  {
   "cell_type": "code",
   "execution_count": 20,
   "metadata": {},
   "outputs": [
    {
     "data": {
      "text/plain": [
       "99.14740857078752"
      ]
     },
     "execution_count": 20,
     "metadata": {},
     "output_type": "execute_result"
    }
   ],
   "source": [
    "X_train,X_test,y_train,y_test = train_test_split(X,y,test_size=.2,random_state=6)\n",
    "cv=CountVectorizer()\n",
    "dtm=cv.fit_transform(X_train)\n",
    "dtma=dtm.toarray()\n",
    "\n",
    "nb=MultinomialNB()\n",
    "nb.fit(dtma,y_train)\n",
    "\n",
    "x_test_dtm = cv.transform(X_test)\n",
    "x_test_dtma = x_test_dtm.toarray()\n",
    "\n",
    "\n",
    "y_pred = nb.predict(dtma)\n",
    "accuracy_score(y_train,y_pred)*100\n",
    "\n"
   ]
  }
 ],
 "metadata": {
  "kernelspec": {
   "display_name": "Python 3",
   "language": "python",
   "name": "python3"
  },
  "language_info": {
   "codemirror_mode": {
    "name": "ipython",
    "version": 3
   },
   "file_extension": ".py",
   "mimetype": "text/x-python",
   "name": "python",
   "nbconvert_exporter": "python",
   "pygments_lexer": "ipython3",
   "version": "3.7.3"
  }
 },
 "nbformat": 4,
 "nbformat_minor": 2
}
