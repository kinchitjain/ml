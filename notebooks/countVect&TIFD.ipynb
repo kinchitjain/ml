{
 "cells": [
  {
   "cell_type": "code",
   "execution_count": 4,
   "metadata": {},
   "outputs": [],
   "source": [
    "import pandas as pd\n",
    "from sklearn.feature_extraction.text import CountVectorizer, TfidfVectorizer\n",
    "\n",
    "text = [\"This is document one\",\n",
    "       \"This is another document\",\n",
    "       \"Another line with another document\",\n",
    "       \"Yet another document as last one\"]\n",
    "\n",
    "cv = CountVectorizer()\n",
    "cv.fit(text)\n",
    "dtm = cv.transform(text) # dtm = document term matrix\n",
    "da = dtm.toarray()\n",
    "cv.get_feature_names()\n",
    "df = pd.DataFrame(da,columns=cv.get_feature_names(),index=text)\n",
    "\n"
   ]
  },
  {
   "cell_type": "code",
   "execution_count": 7,
   "metadata": {},
   "outputs": [],
   "source": [
    "from spacy.lang.en.stop_words import STOP_WORDS\n",
    "\n",
    "cv = CountVectorizer(stop_words=STOP_WORDS)\n",
    "dtm = cv.fit_transform(text)\n",
    "da = dtm.toarray()\n",
    "df = pd.DataFrame(da,index=text,columns=cv.get_feature_names())\n"
   ]
  },
  {
   "cell_type": "code",
   "execution_count": 9,
   "metadata": {},
   "outputs": [],
   "source": [
    "text = ['This is document one',\n",
    " 'This is another document',\n",
    " 'Another line with another Document',\n",
    " 'Yet another docuMEnt as last one']\n",
    "\n",
    "cv = TfidfVectorizer(lowercase=False)\n",
    "dtm = cv.fit_transform(text)\n",
    "da = dtm.toarray()\n",
    "df = pd.DataFrame(da,index=text,columns=cv.get_feature_names())\n"
   ]
  }
 ],
 "metadata": {
  "kernelspec": {
   "display_name": "Python 3",
   "language": "python",
   "name": "python3"
  },
  "language_info": {
   "codemirror_mode": {
    "name": "ipython",
    "version": 3
   },
   "file_extension": ".py",
   "mimetype": "text/x-python",
   "name": "python",
   "nbconvert_exporter": "python",
   "pygments_lexer": "ipython3",
   "version": "3.7.3"
  }
 },
 "nbformat": 4,
 "nbformat_minor": 2
}
