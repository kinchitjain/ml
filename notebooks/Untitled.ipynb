{
 "cells": [
  {
   "cell_type": "code",
   "execution_count": 5,
   "metadata": {},
   "outputs": [
    {
     "name": "stdout",
     "output_type": "stream",
     "text": [
      "[21, 34, 56]\n"
     ]
    }
   ],
   "source": [
    "a=[1,20,21,34,56,71,0]\n",
    "a.sort()\n",
    "print(a[3:6])"
   ]
  },
  {
   "cell_type": "code",
   "execution_count": 10,
   "metadata": {},
   "outputs": [
    {
     "name": "stdout",
     "output_type": "stream",
     "text": [
      "362880\n"
     ]
    },
    {
     "data": {
      "text/plain": [
       "362880"
      ]
     },
     "execution_count": 10,
     "metadata": {},
     "output_type": "execute_result"
    }
   ],
   "source": [
    "i=1\n",
    "mul=1\n",
    "for i in range(1,10):\n",
    "    mul=i*mul\n",
    "    \n",
    "print(mul)\n",
    "\n",
    "def factorial(n): \n",
    "    return 1 if(n==0 or n==1) else n* factorial(n-1)  \n",
    "\n",
    "factorial(9)"
   ]
  },
  {
   "cell_type": "code",
   "execution_count": 13,
   "metadata": {},
   "outputs": [
    {
     "name": "stdout",
     "output_type": "stream",
     "text": [
      "odd\n",
      "even\n",
      "odd\n",
      "odd\n",
      "even\n",
      "even\n"
     ]
    }
   ],
   "source": [
    "a=[11,12,23,21,34,22]\n",
    "for i in a:\n",
    "    print(\"even\") if(i%2==0)else print(\"odd\")"
   ]
  },
  {
   "cell_type": "code",
   "execution_count": 17,
   "metadata": {},
   "outputs": [
    {
     "data": {
      "text/plain": [
       "array([1.        , 1.06060606, 1.12121212, 1.18181818, 1.24242424])"
      ]
     },
     "execution_count": 17,
     "metadata": {},
     "output_type": "execute_result"
    }
   ],
   "source": [
    "import numpy as np\n",
    "a=np.linspace(1,7,100) # from 1 to 7\n",
    "\n",
    "a[a<1.3030303]"
   ]
  },
  {
   "cell_type": "code",
   "execution_count": 26,
   "metadata": {},
   "outputs": [
    {
     "name": "stdout",
     "output_type": "stream",
     "text": [
      "[50  0  0  0  0]\n",
      "[40 91  0  0  0]\n",
      "[80 95 26  0  0]\n",
      "[82 16 35 51  0]\n",
      "[89 86 52 95 69]\n"
     ]
    }
   ],
   "source": [
    "a=np.random.randint(10,100,25).reshape(5,5)\n",
    "count=0\n",
    "for i in a:\n",
    "    i[count+1:]=0\n",
    "    count+=1\n",
    "    \n",
    "    print(i)\n",
    "    "
   ]
  }
 ],
 "metadata": {
  "kernelspec": {
   "display_name": "Python 3",
   "language": "python",
   "name": "python3"
  },
  "language_info": {
   "codemirror_mode": {
    "name": "ipython",
    "version": 3
   },
   "file_extension": ".py",
   "mimetype": "text/x-python",
   "name": "python",
   "nbconvert_exporter": "python",
   "pygments_lexer": "ipython3",
   "version": "3.7.3"
  }
 },
 "nbformat": 4,
 "nbformat_minor": 2
}
