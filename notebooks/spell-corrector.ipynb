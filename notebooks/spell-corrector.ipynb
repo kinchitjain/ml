{
 "cells": [
  {
   "cell_type": "code",
   "execution_count": 1,
   "metadata": {},
   "outputs": [],
   "source": [
    "import re\n",
    "from collections import Counter"
   ]
  },
  {
   "cell_type": "code",
   "execution_count": 2,
   "metadata": {},
   "outputs": [],
   "source": [
    "# function to tokenise words\n",
    "def words(document):\n",
    "    \"Convert text to lower case and tokenise the document\"\n",
    "    return re.findall(r'\\w+', document.lower())"
   ]
  },
  {
   "cell_type": "code",
   "execution_count": 3,
   "metadata": {},
   "outputs": [],
   "source": [
    "# create a frequency table of all the words of the document\n",
    "all_words = Counter(words(open('big.txt').read()))"
   ]
  },
  {
   "cell_type": "code",
   "execution_count": 4,
   "metadata": {},
   "outputs": [
    {
     "data": {
      "text/plain": [
       "135"
      ]
     },
     "execution_count": 4,
     "metadata": {},
     "output_type": "execute_result"
    }
   ],
   "source": [
    "# check frequency of a random word, say, 'chair'\n",
    "all_words['chair']"
   ]
  },
  {
   "cell_type": "code",
   "execution_count": 5,
   "metadata": {},
   "outputs": [
    {
     "data": {
      "text/plain": [
       "[('the', 79809),\n",
       " ('of', 40024),\n",
       " ('and', 38312),\n",
       " ('to', 28765),\n",
       " ('in', 22023),\n",
       " ('a', 21124),\n",
       " ('that', 12512),\n",
       " ('he', 12401),\n",
       " ('was', 11410),\n",
       " ('it', 10681)]"
      ]
     },
     "execution_count": 5,
     "metadata": {},
     "output_type": "execute_result"
    }
   ],
   "source": [
    "# look at top 10 frequent words\n",
    "all_words.most_common(10)"
   ]
  },
  {
   "cell_type": "code",
   "execution_count": 6,
   "metadata": {},
   "outputs": [],
   "source": [
    "def edits_one(word):\n",
    "    \"Create all edits that are one edit away from `word`.\"\n",
    "    alphabets    = 'abcdefghijklmnopqrstuvwxyz'\n",
    "    splits     = [(word[:i], word[i:])                   for i in range(len(word) + 1)]\n",
    "    deletes    = [left + right[1:]                       for left, right in splits if right]\n",
    "    inserts    = [left + c + right                       for left, right in splits for c in alphabets]\n",
    "    replaces   = [left + c + right[1:]                   for left, right in splits if right for c in alphabets]\n",
    "    transposes = [left + right[1] + right[0] + right[2:] for left, right in splits if len(right)>1]\n",
    "    return set(deletes + inserts + replaces + transposes)"
   ]
  },
  {
   "cell_type": "code",
   "execution_count": 7,
   "metadata": {},
   "outputs": [],
   "source": [
    "def edits_two(word):\n",
    "    \"Create all edits that are two edits away from `word`.\"\n",
    "    return (e2 for e1 in edits_one(word) for e2 in edits_one(e1))"
   ]
  },
  {
   "cell_type": "code",
   "execution_count": 8,
   "metadata": {},
   "outputs": [],
   "source": [
    "def known(words):\n",
    "    \"The subset of `words` that appear in the `all_words`.\"\n",
    "    return set(word for word in words if word in all_words)"
   ]
  },
  {
   "cell_type": "code",
   "execution_count": 9,
   "metadata": {},
   "outputs": [],
   "source": [
    "def possible_corrections(word):\n",
    "    \"Generate possible spelling corrections for word.\"\n",
    "    return (known([word]) or known(edits_one(word)) or known(edits_two(word)) or [word])"
   ]
  },
  {
   "cell_type": "code",
   "execution_count": 10,
   "metadata": {},
   "outputs": [],
   "source": [
    "def prob(word, N=sum(all_words.values())): \n",
    "    \"Probability of `word`: Number of appearances of 'word' / total number of tokens\"\n",
    "    return all_words[word] / N"
   ]
  },
  {
   "cell_type": "code",
   "execution_count": 21,
   "metadata": {},
   "outputs": [
    {
     "name": "stdout",
     "output_type": "stream",
     "text": [
      "442\n",
      "{'monnfy', 'monlney', 'monnej', 'monneyr', 'monmney', 'monwney', 'monnen', 'ponney', 'mowney', 'monnery', 'mognney', 'monnny', 'mdnney', 'oonney', 'monnzy', 'mqonney', 'mkonney', 'sonney', 'molney', 'monnjey', 'monngey', 'monnev', 'monqney', 'mobney', 'conney', 'omonney', 'monoey', 'nmonney', 'monnek', 'zonney', 'mwonney', 'monniey', 'monneyd', 'moonney', 'mwnney', 'mobnney', 'monnsy', 'mxonney', 'monnry', 'monnea', 'monnely', 'mronney', 'tmonney', 'monxney', 'mgnney', 'monvey', 'monneyn', 'mhnney', 'monaey', 'molnney', 'monnky', 'mooney', 'monneyj', 'imonney', 'mofney', 'monsey', 'monneyl', 'onney', 'monnegy', 'mponney', 'monnvey', 'monhney', 'monhey', 'movney', 'monnec', 'monnel', 'monnley', 'ronney', 'bonney', 'monneyp', 'monnye', 'mosnney', 'mhonney', 'monnaey', 'mtnney', 'monnqy', 'montney', 'monneby', 'monner', 'mynney', 'monnkey', 'monnbey', 'donney', 'monneh', 'moncey', 'monwey', 'monnney', 'monnepy', 'mongney', 'monnedy', 'monneyc', 'monnwy', 'monnby', 'monnjy', 'monmey', 'monkney', 'monneyk', 'monned', 'monneyt', 'moynney', 'monnyy', 'monfney', 'monnyey', 'moenney', 'monnvy', 'monnefy', 'morney', 'mznney', 'monrey', 'mnoney', 'monnly', 'vonney', 'monnee', 'monnwey', 'mjnney', 'monnety', 'monnhy', 'honney', 'monneyb', 'monuey', 'mionney', 'monneyo', 'monneky', 'mofnney', 'monndey', 'monneyh', 'myonney', 'monnemy', 'moneney', 'mopnney', 'mmonney', 'mocnney', 'umonney', 'moknney', 'monyey', 'tonney', 'monnet', 'monndy', 'omnney', 'monnew', 'mohnney', 'menney', 'monny', 'monneay', 'monnty', 'monnes', 'motnney', 'monbney', 'monngy', 'monnpy', 'monncey', 'fmonney', 'monjney', 'mvnney', 'mozney', 'mconney', 'monneyg', 'moqney', 'monneys', 'nonney', 'mondney', 'moniney', 'mmnney', 'mogney', 'rmonney', 'monnejy', 'monneq', 'monnqey', 'monneqy', 'moaney', 'monncy', 'monneyi', 'monnxey', 'monneb', 'monneu', 'monneyu', 'moiney', 'mjonney', 'monnexy', 'monnezy', 'mongey', 'monneey', 'monnrey', 'mlonney', 'msonney', 'monnxy', 'monneo', 'emonney', 'monneya', 'zmonney', 'mbonney', 'monnuy', 'mfonney', 'monnewy', 'montey', 'monneyx', 'monnei', 'amonney', 'mononey', 'monrney', 'monsney', 'monne', 'lmonney', 'eonney', 'monxey', 'monnoy', 'mnney', 'moncney', 'monnex', 'monnzey', 'xmonney', 'mopney', 'lonney', 'mzonney', 'moxnney', 'monnecy', 'yonney', 'bmonney', 'monntey', 'monnhey', 'monneuy', 'monnez', 'monyney', 'mgonney', 'monnevy', 'mrnney', 'momnney', 'qmonney', 'mojney', 'moeney', 'monnuey', 'mlnney', 'monneny', 'minney', 'mnonney', 'mfnney', 'monnmey', 'monneg', 'konney', 'monneye', 'mocney', 'monneyz', 'moniey', 'monqey', 'mounney', 'monnfey', 'mosney', 'monneym', 'monnem', 'monney', 'monpney', 'xonney', 'mpnney', 'monnay', 'monnesy', 'monneiy', 'wmonney', 'monnoey', 'moxney', 'monneyq', 'momney', 'mnnney', 'monfey', 'mtonney', 'monneyy', 'money', 'maonney', 'kmonney', 'mqnney', 'monneyv', 'monneyf', 'wonney', 'monzney', 'monjey', 'mojnney', 'msnney', 'mohney', 'manney', 'vmonney', 'moyney', 'movnney', 'monnsey', 'mknney', 'munney', 'gonney', 'monneoy', 'mcnney', 'monley', 'gmonney', 'muonney', 'motney', 'fonney', 'qonney', 'hmonney', 'modnney', 'pmonney', 'moinney', 'modney', 'mouney', 'smonney', 'monpey', 'monbey', 'moqnney', 'mdonney', 'moneny', 'aonney', 'cmonney', 'mokney', 'meonney', 'mornney', 'monzey', 'mownney', 'moneey', 'monniy', 'monnep', 'moanney', 'monnef', 'ymonney', 'monaney', 'jonney', 'mxnney', 'monnmy', 'dmonney', 'monnpey', 'monneyw', 'mondey', 'monnehy', 'moznney', 'monuney', 'jmonney', 'uonney', 'mvonney', 'ionney', 'mbnney', 'monvney', 'monkey'}\n"
     ]
    }
   ],
   "source": [
    "print(len(set(edits_one(\"emphsife\"))))\n",
    "print(edits_one(\"monney\"))"
   ]
  },
  {
   "cell_type": "code",
   "execution_count": 18,
   "metadata": {},
   "outputs": [
    {
     "name": "stdout",
     "output_type": "stream",
     "text": [
      "set()\n"
     ]
    }
   ],
   "source": [
    "print(known(edits_one(\"monney\")))"
   ]
  },
  {
   "cell_type": "code",
   "execution_count": 19,
   "metadata": {},
   "outputs": [
    {
     "name": "stdout",
     "output_type": "stream",
     "text": [
      "90902\n",
      "{'monkey', 'money'}\n"
     ]
    }
   ],
   "source": [
    "# Let's look at words that are two edits away\n",
    "print(len(set(edits_two(\"monney\"))))\n",
    "print(known(edits_one(\"monney\")))"
   ]
  },
  {
   "cell_type": "code",
   "execution_count": 20,
   "metadata": {},
   "outputs": [
    {
     "name": "stdout",
     "output_type": "stream",
     "text": [
      "{'emphasize'}\n"
     ]
    }
   ],
   "source": [
    "# Let's look at possible corrections of a word\n",
    "print(possible_corrections(\"emfasize\"))"
   ]
  },
  {
   "cell_type": "code",
   "execution_count": 15,
   "metadata": {},
   "outputs": [
    {
     "name": "stdout",
     "output_type": "stream",
     "text": [
      "0.0002922233626303688\n",
      "5.378344097491451e-06\n"
     ]
    }
   ],
   "source": [
    "# Let's look at probability of a word\n",
    "print(prob(\"money\"))\n",
    "print(prob(\"monkey\"))"
   ]
  },
  {
   "cell_type": "code",
   "execution_count": 16,
   "metadata": {},
   "outputs": [],
   "source": [
    "def spell_check(word):\n",
    "    \"Print the most probable spelling correction for `word` out of all the `possible_corrections`\"\n",
    "    correct_word = max(possible_corrections(word), key=prob)\n",
    "    if correct_word != word:\n",
    "        return \"Did you mean \" + correct_word + \"?\"\n",
    "    else:\n",
    "        return \"Correct spelling.\""
   ]
  },
  {
   "cell_type": "code",
   "execution_count": 17,
   "metadata": {},
   "outputs": [
    {
     "name": "stdout",
     "output_type": "stream",
     "text": [
      "Did you mean money?\n"
     ]
    }
   ],
   "source": [
    "# test spell check\n",
    "print(spell_check(\"monney\"))"
   ]
  }
 ],
 "metadata": {
  "kernelspec": {
   "display_name": "Python 3",
   "language": "python",
   "name": "python3"
  },
  "language_info": {
   "codemirror_mode": {
    "name": "ipython",
    "version": 3
   },
   "file_extension": ".py",
   "mimetype": "text/x-python",
   "name": "python",
   "nbconvert_exporter": "python",
   "pygments_lexer": "ipython3",
   "version": "3.7.7"
  }
 },
 "nbformat": 4,
 "nbformat_minor": 2
}
